{
 "cells": [
  {
   "cell_type": "markdown",
   "metadata": {},
   "source": [
    "# Introduction to Pandas"
   ]
  },
  {
   "cell_type": "markdown",
   "metadata": {},
   "source": [
    "### Useful Jupyter Notebook Hotkeys\n",
    "\n",
    "In Jupyter Notebooks, there are several hotkeys that may come in useful:\n",
    "* Press `Shift`+`Enter` to execute the currently selected cell.\n",
    "* Press `Shift`+`CTRL`+`-` to split the current cell in two at the current position of the cursor.\n",
    "\n",
    "You can enter `Command Mode` by pressing `Esc`. You should see the indicator box around your currently selected cell change from Green to Blue.\n",
    "Once in `Command Mode`:\n",
    "* Press `a` to insert a new cell above the currently selected cell.\n",
    "* Press `b` to insert a new cell below the currently selected cell.\n",
    "* Press `d` twice in a row to delete the currently selected cell.\n",
    "* Press `m` to swap the current cell to Markdown (or text) format.\n",
    "* Press `y` to swap the current cell back to Code format.\n"
   ]
  },
  {
   "cell_type": "markdown",
   "metadata": {},
   "source": [
    "## Creating a DataFrame"
   ]
  },
  {
   "cell_type": "code",
   "execution_count": 5,
   "metadata": {},
   "outputs": [],
   "source": [
    "import pandas"
   ]
  },
  {
   "cell_type": "markdown",
   "metadata": {},
   "source": [
    "A table in Pandas is called a DataFrame, and it can be created from a Dictionary, or by importing data from a `.csv`, or `.json` file, or from an SQL database (among many other methods). In this hackathon, all of the provided data sets should be in `.csv` format, but if you find another source of data that you want to use, you can probably import it into a DataFrame somehow."
   ]
  },
  {
   "cell_type": "code",
   "execution_count": 6,
   "metadata": {},
   "outputs": [
    {
     "data": {
      "text/html": [
       "<div>\n",
       "<style scoped>\n",
       "    .dataframe tbody tr th:only-of-type {\n",
       "        vertical-align: middle;\n",
       "    }\n",
       "\n",
       "    .dataframe tbody tr th {\n",
       "        vertical-align: top;\n",
       "    }\n",
       "\n",
       "    .dataframe thead th {\n",
       "        text-align: right;\n",
       "    }\n",
       "</style>\n",
       "<table border=\"1\" class=\"dataframe\">\n",
       "  <thead>\n",
       "    <tr style=\"text-align: right;\">\n",
       "      <th></th>\n",
       "      <th>apples</th>\n",
       "      <th>oranges</th>\n",
       "      <th>bananas</th>\n",
       "    </tr>\n",
       "  </thead>\n",
       "  <tbody>\n",
       "    <tr>\n",
       "      <th>0</th>\n",
       "      <td>1</td>\n",
       "      <td>2</td>\n",
       "      <td>1</td>\n",
       "    </tr>\n",
       "    <tr>\n",
       "      <th>1</th>\n",
       "      <td>2</td>\n",
       "      <td>4</td>\n",
       "      <td>0</td>\n",
       "    </tr>\n",
       "    <tr>\n",
       "      <th>2</th>\n",
       "      <td>3</td>\n",
       "      <td>6</td>\n",
       "      <td>3</td>\n",
       "    </tr>\n",
       "    <tr>\n",
       "      <th>3</th>\n",
       "      <td>4</td>\n",
       "      <td>8</td>\n",
       "      <td>4</td>\n",
       "    </tr>\n",
       "    <tr>\n",
       "      <th>4</th>\n",
       "      <td>5</td>\n",
       "      <td>10</td>\n",
       "      <td>2</td>\n",
       "    </tr>\n",
       "  </tbody>\n",
       "</table>\n",
       "</div>"
      ],
      "text/plain": [
       "   apples  oranges  bananas\n",
       "0       1        2        1\n",
       "1       2        4        0\n",
       "2       3        6        3\n",
       "3       4        8        4\n",
       "4       5       10        2"
      ]
     },
     "execution_count": 6,
     "metadata": {},
     "output_type": "execute_result"
    }
   ],
   "source": [
    "example_dict = {\n",
    "    \"apples\": [1, 2, 3, 4, 5],\n",
    "    \"oranges\": [2, 4, 6, 8, 10],\n",
    "    \"bananas\": [1, 0, 3, 4, 2]\n",
    "};\n",
    "\n",
    "df_from_dict = pandas.DataFrame(example_dict);\n",
    "\n",
    "df_from_dict\n"
   ]
  },
  {
   "cell_type": "markdown",
   "metadata": {},
   "source": [
    "However, it would be impractical with these large datasets to retype the data, so we'll import the data from the `.csv` file using Pandas' `.read_csv` function."
   ]
  },
  {
   "cell_type": "code",
   "execution_count": 7,
   "metadata": {},
   "outputs": [],
   "source": [
    "df = pandas.read_csv(\"../potential_datasets/election_2019/HoC-GE2019-results-by-candidate.csv\")"
   ]
  },
  {
   "cell_type": "markdown",
   "metadata": {},
   "source": [
    "## Having a look at the data"
   ]
  },
  {
   "cell_type": "markdown",
   "metadata": {},
   "source": [
    "To start with, it is best to get familiar with the data that you will be analysing. A good way of doing this is with the `.head()` function, which allows you to have a quick look at the first few rows of data in the DataFrame. From this, you can get a look at what each of the columns are, and the general sort of data in each of them."
   ]
  },
  {
   "cell_type": "code",
   "execution_count": 8,
   "metadata": {},
   "outputs": [
    {
     "data": {
      "text/html": [
       "<div>\n",
       "<style scoped>\n",
       "    .dataframe tbody tr th:only-of-type {\n",
       "        vertical-align: middle;\n",
       "    }\n",
       "\n",
       "    .dataframe tbody tr th {\n",
       "        vertical-align: top;\n",
       "    }\n",
       "\n",
       "    .dataframe thead th {\n",
       "        text-align: right;\n",
       "    }\n",
       "</style>\n",
       "<table border=\"1\" class=\"dataframe\">\n",
       "  <thead>\n",
       "    <tr style=\"text-align: right;\">\n",
       "      <th></th>\n",
       "      <th>ons_id</th>\n",
       "      <th>ons_region_id</th>\n",
       "      <th>constituency_name</th>\n",
       "      <th>county_name</th>\n",
       "      <th>region_name</th>\n",
       "      <th>country_name</th>\n",
       "      <th>constituency_type</th>\n",
       "      <th>party_name</th>\n",
       "      <th>party_abbreviation</th>\n",
       "      <th>firstname</th>\n",
       "      <th>surname</th>\n",
       "      <th>gender</th>\n",
       "      <th>sitting_mp</th>\n",
       "      <th>former_mp</th>\n",
       "      <th>votes</th>\n",
       "      <th>share</th>\n",
       "      <th>change</th>\n",
       "    </tr>\n",
       "  </thead>\n",
       "  <tbody>\n",
       "    <tr>\n",
       "      <th>0</th>\n",
       "      <td>W07000049</td>\n",
       "      <td>W92000004</td>\n",
       "      <td>Aberavon</td>\n",
       "      <td>West Glamorgan</td>\n",
       "      <td>Wales</td>\n",
       "      <td>Wales</td>\n",
       "      <td>County</td>\n",
       "      <td>Labour</td>\n",
       "      <td>Lab</td>\n",
       "      <td>Stephen</td>\n",
       "      <td>Kinnock</td>\n",
       "      <td>Male</td>\n",
       "      <td>Yes</td>\n",
       "      <td>Yes</td>\n",
       "      <td>17008</td>\n",
       "      <td>0.538262</td>\n",
       "      <td>-0.142933</td>\n",
       "    </tr>\n",
       "    <tr>\n",
       "      <th>1</th>\n",
       "      <td>W07000049</td>\n",
       "      <td>W92000004</td>\n",
       "      <td>Aberavon</td>\n",
       "      <td>West Glamorgan</td>\n",
       "      <td>Wales</td>\n",
       "      <td>Wales</td>\n",
       "      <td>County</td>\n",
       "      <td>Conservative</td>\n",
       "      <td>Con</td>\n",
       "      <td>Charlotte</td>\n",
       "      <td>Lang</td>\n",
       "      <td>Female</td>\n",
       "      <td>No</td>\n",
       "      <td>No</td>\n",
       "      <td>6518</td>\n",
       "      <td>0.206279</td>\n",
       "      <td>0.028901</td>\n",
       "    </tr>\n",
       "    <tr>\n",
       "      <th>2</th>\n",
       "      <td>W07000049</td>\n",
       "      <td>W92000004</td>\n",
       "      <td>Aberavon</td>\n",
       "      <td>West Glamorgan</td>\n",
       "      <td>Wales</td>\n",
       "      <td>Wales</td>\n",
       "      <td>County</td>\n",
       "      <td>Brexit Party</td>\n",
       "      <td>Brexit</td>\n",
       "      <td>Glenda</td>\n",
       "      <td>Davies</td>\n",
       "      <td>Female</td>\n",
       "      <td>No</td>\n",
       "      <td>No</td>\n",
       "      <td>3108</td>\n",
       "      <td>0.098361</td>\n",
       "      <td>NaN</td>\n",
       "    </tr>\n",
       "    <tr>\n",
       "      <th>3</th>\n",
       "      <td>W07000049</td>\n",
       "      <td>W92000004</td>\n",
       "      <td>Aberavon</td>\n",
       "      <td>West Glamorgan</td>\n",
       "      <td>Wales</td>\n",
       "      <td>Wales</td>\n",
       "      <td>County</td>\n",
       "      <td>Plaid Cymru</td>\n",
       "      <td>PC</td>\n",
       "      <td>Nigel</td>\n",
       "      <td>Hunt</td>\n",
       "      <td>Male</td>\n",
       "      <td>No</td>\n",
       "      <td>No</td>\n",
       "      <td>2711</td>\n",
       "      <td>0.085797</td>\n",
       "      <td>0.002804</td>\n",
       "    </tr>\n",
       "    <tr>\n",
       "      <th>4</th>\n",
       "      <td>W07000049</td>\n",
       "      <td>W92000004</td>\n",
       "      <td>Aberavon</td>\n",
       "      <td>West Glamorgan</td>\n",
       "      <td>Wales</td>\n",
       "      <td>Wales</td>\n",
       "      <td>County</td>\n",
       "      <td>Liberal Democrat</td>\n",
       "      <td>LD</td>\n",
       "      <td>Sheila</td>\n",
       "      <td>Kingston-Jones</td>\n",
       "      <td>Female</td>\n",
       "      <td>No</td>\n",
       "      <td>No</td>\n",
       "      <td>1072</td>\n",
       "      <td>0.033926</td>\n",
       "      <td>0.015921</td>\n",
       "    </tr>\n",
       "  </tbody>\n",
       "</table>\n",
       "</div>"
      ],
      "text/plain": [
       "      ons_id ons_region_id constituency_name     county_name region_name  \\\n",
       "0  W07000049     W92000004          Aberavon  West Glamorgan       Wales   \n",
       "1  W07000049     W92000004          Aberavon  West Glamorgan       Wales   \n",
       "2  W07000049     W92000004          Aberavon  West Glamorgan       Wales   \n",
       "3  W07000049     W92000004          Aberavon  West Glamorgan       Wales   \n",
       "4  W07000049     W92000004          Aberavon  West Glamorgan       Wales   \n",
       "\n",
       "  country_name constituency_type        party_name party_abbreviation  \\\n",
       "0        Wales            County            Labour                Lab   \n",
       "1        Wales            County      Conservative                Con   \n",
       "2        Wales            County      Brexit Party             Brexit   \n",
       "3        Wales            County       Plaid Cymru                 PC   \n",
       "4        Wales            County  Liberal Democrat                 LD   \n",
       "\n",
       "   firstname         surname  gender sitting_mp former_mp  votes     share  \\\n",
       "0    Stephen         Kinnock    Male        Yes       Yes  17008  0.538262   \n",
       "1  Charlotte            Lang  Female         No        No   6518  0.206279   \n",
       "2     Glenda          Davies  Female         No        No   3108  0.098361   \n",
       "3      Nigel            Hunt    Male         No        No   2711  0.085797   \n",
       "4     Sheila  Kingston-Jones  Female         No        No   1072  0.033926   \n",
       "\n",
       "     change  \n",
       "0 -0.142933  \n",
       "1  0.028901  \n",
       "2       NaN  \n",
       "3  0.002804  \n",
       "4  0.015921  "
      ]
     },
     "execution_count": 8,
     "metadata": {},
     "output_type": "execute_result"
    }
   ],
   "source": [
    "df.head()"
   ]
  },
  {
   "cell_type": "markdown",
   "metadata": {},
   "source": [
    "You can see above that the DataFrame is made of up several Columns, or `Series`, each of which holds a point of data for every row in the DataFrame. We can select a specific column as follows:"
   ]
  },
  {
   "cell_type": "code",
   "execution_count": 9,
   "metadata": {},
   "outputs": [
    {
     "data": {
      "text/plain": [
       "0         Wales\n",
       "1         Wales\n",
       "2         Wales\n",
       "3         Wales\n",
       "4         Wales\n",
       "         ...   \n",
       "3315    England\n",
       "3316    England\n",
       "3317    England\n",
       "3318    England\n",
       "3319    England\n",
       "Name: country_name, Length: 3320, dtype: object"
      ]
     },
     "execution_count": 9,
     "metadata": {},
     "output_type": "execute_result"
    }
   ],
   "source": [
    "df['country_name']"
   ]
  },
  {
   "cell_type": "markdown",
   "metadata": {},
   "source": [
    "We can examine each of these Columns a bit more closely using some of their inbuilt functions. One such is `.unique()`, which we can use to find out the number of unique values in a given column."
   ]
  },
  {
   "cell_type": "code",
   "execution_count": 10,
   "metadata": {},
   "outputs": [
    {
     "data": {
      "text/plain": [
       "array(['Wales', 'Scotland', 'England', 'Northern Ireland'], dtype=object)"
      ]
     },
     "execution_count": 10,
     "metadata": {},
     "output_type": "execute_result"
    }
   ],
   "source": [
    "df['country_name'].unique()"
   ]
  },
  {
   "cell_type": "markdown",
   "metadata": {},
   "source": [
    "We can go further into exploring this separation of data by counting how many records we have for each country in the dataset. To do this we can group the data by value in the `country_name` column. The `.groupby()` function of the DataFrame will return a generator of `Value, Group` pairs, where each `Value` is a value in the specified column, and each `Group` is the subset of the DataFrame that have the given value in that column."
   ]
  },
  {
   "cell_type": "code",
   "execution_count": 11,
   "metadata": {},
   "outputs": [
    {
     "name": "stdout",
     "output_type": "stream",
     "text": [
      "England 2710\n",
      "Northern Ireland 102\n",
      "Scotland 292\n",
      "Wales 216\n"
     ]
    }
   ],
   "source": [
    "df.groupby('country_name')\n",
    "for value, subset_df in df.groupby('country_name'):\n",
    "    print(value, len(subset_df))"
   ]
  },
  {
   "cell_type": "markdown",
   "metadata": {},
   "source": [
    "However, we can do this slightly easier by using Pandas `.count()` method. This will count how many values are present in each column, for each group."
   ]
  },
  {
   "cell_type": "code",
   "execution_count": 12,
   "metadata": {},
   "outputs": [
    {
     "data": {
      "text/html": [
       "<div>\n",
       "<style scoped>\n",
       "    .dataframe tbody tr th:only-of-type {\n",
       "        vertical-align: middle;\n",
       "    }\n",
       "\n",
       "    .dataframe tbody tr th {\n",
       "        vertical-align: top;\n",
       "    }\n",
       "\n",
       "    .dataframe thead th {\n",
       "        text-align: right;\n",
       "    }\n",
       "</style>\n",
       "<table border=\"1\" class=\"dataframe\">\n",
       "  <thead>\n",
       "    <tr style=\"text-align: right;\">\n",
       "      <th></th>\n",
       "      <th>ons_id</th>\n",
       "      <th>ons_region_id</th>\n",
       "      <th>constituency_name</th>\n",
       "      <th>county_name</th>\n",
       "      <th>region_name</th>\n",
       "      <th>constituency_type</th>\n",
       "      <th>party_name</th>\n",
       "      <th>party_abbreviation</th>\n",
       "      <th>firstname</th>\n",
       "      <th>surname</th>\n",
       "      <th>gender</th>\n",
       "      <th>sitting_mp</th>\n",
       "      <th>former_mp</th>\n",
       "      <th>votes</th>\n",
       "      <th>share</th>\n",
       "      <th>change</th>\n",
       "    </tr>\n",
       "    <tr>\n",
       "      <th>country_name</th>\n",
       "      <th></th>\n",
       "      <th></th>\n",
       "      <th></th>\n",
       "      <th></th>\n",
       "      <th></th>\n",
       "      <th></th>\n",
       "      <th></th>\n",
       "      <th></th>\n",
       "      <th></th>\n",
       "      <th></th>\n",
       "      <th></th>\n",
       "      <th></th>\n",
       "      <th></th>\n",
       "      <th></th>\n",
       "      <th></th>\n",
       "      <th></th>\n",
       "    </tr>\n",
       "  </thead>\n",
       "  <tbody>\n",
       "    <tr>\n",
       "      <th>England</th>\n",
       "      <td>2710</td>\n",
       "      <td>2710</td>\n",
       "      <td>2710</td>\n",
       "      <td>2710</td>\n",
       "      <td>2710</td>\n",
       "      <td>2710</td>\n",
       "      <td>2710</td>\n",
       "      <td>2710</td>\n",
       "      <td>2710</td>\n",
       "      <td>2710</td>\n",
       "      <td>2710</td>\n",
       "      <td>2710</td>\n",
       "      <td>2710</td>\n",
       "      <td>2710</td>\n",
       "      <td>2710</td>\n",
       "      <td>2058</td>\n",
       "    </tr>\n",
       "    <tr>\n",
       "      <th>Northern Ireland</th>\n",
       "      <td>102</td>\n",
       "      <td>102</td>\n",
       "      <td>102</td>\n",
       "      <td>102</td>\n",
       "      <td>102</td>\n",
       "      <td>102</td>\n",
       "      <td>102</td>\n",
       "      <td>102</td>\n",
       "      <td>102</td>\n",
       "      <td>102</td>\n",
       "      <td>102</td>\n",
       "      <td>102</td>\n",
       "      <td>102</td>\n",
       "      <td>102</td>\n",
       "      <td>102</td>\n",
       "      <td>87</td>\n",
       "    </tr>\n",
       "    <tr>\n",
       "      <th>Scotland</th>\n",
       "      <td>292</td>\n",
       "      <td>292</td>\n",
       "      <td>292</td>\n",
       "      <td>292</td>\n",
       "      <td>292</td>\n",
       "      <td>292</td>\n",
       "      <td>292</td>\n",
       "      <td>292</td>\n",
       "      <td>292</td>\n",
       "      <td>292</td>\n",
       "      <td>292</td>\n",
       "      <td>292</td>\n",
       "      <td>292</td>\n",
       "      <td>292</td>\n",
       "      <td>292</td>\n",
       "      <td>242</td>\n",
       "    </tr>\n",
       "    <tr>\n",
       "      <th>Wales</th>\n",
       "      <td>216</td>\n",
       "      <td>216</td>\n",
       "      <td>216</td>\n",
       "      <td>216</td>\n",
       "      <td>216</td>\n",
       "      <td>216</td>\n",
       "      <td>216</td>\n",
       "      <td>216</td>\n",
       "      <td>216</td>\n",
       "      <td>216</td>\n",
       "      <td>216</td>\n",
       "      <td>216</td>\n",
       "      <td>216</td>\n",
       "      <td>216</td>\n",
       "      <td>216</td>\n",
       "      <td>154</td>\n",
       "    </tr>\n",
       "  </tbody>\n",
       "</table>\n",
       "</div>"
      ],
      "text/plain": [
       "                  ons_id  ons_region_id  constituency_name  county_name  \\\n",
       "country_name                                                              \n",
       "England             2710           2710               2710         2710   \n",
       "Northern Ireland     102            102                102          102   \n",
       "Scotland             292            292                292          292   \n",
       "Wales                216            216                216          216   \n",
       "\n",
       "                  region_name  constituency_type  party_name  \\\n",
       "country_name                                                   \n",
       "England                  2710               2710        2710   \n",
       "Northern Ireland          102                102         102   \n",
       "Scotland                  292                292         292   \n",
       "Wales                     216                216         216   \n",
       "\n",
       "                  party_abbreviation  firstname  surname  gender  sitting_mp  \\\n",
       "country_name                                                                   \n",
       "England                         2710       2710     2710    2710        2710   \n",
       "Northern Ireland                 102        102      102     102         102   \n",
       "Scotland                         292        292      292     292         292   \n",
       "Wales                            216        216      216     216         216   \n",
       "\n",
       "                  former_mp  votes  share  change  \n",
       "country_name                                       \n",
       "England                2710   2710   2710    2058  \n",
       "Northern Ireland        102    102    102      87  \n",
       "Scotland                292    292    292     242  \n",
       "Wales                   216    216    216     154  "
      ]
     },
     "execution_count": 12,
     "metadata": {},
     "output_type": "execute_result"
    }
   ],
   "source": [
    "df.groupby('country_name').count()"
   ]
  },
  {
   "cell_type": "markdown",
   "metadata": {},
   "source": [
    "As you can see in the far right of the table above, the last column `change` does not have the same numbers as the rest of the columns. This might warrant a closer look."
   ]
  },
  {
   "cell_type": "code",
   "execution_count": 13,
   "metadata": {},
   "outputs": [
    {
     "data": {
      "text/plain": [
       "0      -0.142933\n",
       "1       0.028901\n",
       "2            NaN\n",
       "3       0.002804\n",
       "4       0.015921\n",
       "          ...   \n",
       "3315         NaN\n",
       "3316   -0.017503\n",
       "3317   -0.053570\n",
       "3318    0.077620\n",
       "3319         NaN\n",
       "Name: change, Length: 3320, dtype: float64"
      ]
     },
     "execution_count": 13,
     "metadata": {},
     "output_type": "execute_result"
    }
   ],
   "source": [
    "df['change']"
   ]
  },
  {
   "cell_type": "markdown",
   "metadata": {},
   "source": [
    "Thankfully we can see right away that several of the entries do not have values in this column, indicated here by the `NaN` values (NumPy's `Not a Number` value)."
   ]
  },
  {
   "cell_type": "markdown",
   "metadata": {},
   "source": [
    "We could work out how many entries do not have a `change` value by simply counting the values and subtracting from the total number of rows, like so"
   ]
  },
  {
   "cell_type": "code",
   "execution_count": 14,
   "metadata": {},
   "outputs": [
    {
     "data": {
      "text/plain": [
       "ons_id                3320\n",
       "ons_region_id         3320\n",
       "constituency_name     3320\n",
       "county_name           3320\n",
       "region_name           3320\n",
       "country_name          3320\n",
       "constituency_type     3320\n",
       "party_name            3320\n",
       "party_abbreviation    3320\n",
       "firstname             3320\n",
       "surname               3320\n",
       "gender                3320\n",
       "sitting_mp            3320\n",
       "former_mp             3320\n",
       "votes                 3320\n",
       "share                 3320\n",
       "change                2541\n",
       "dtype: int64"
      ]
     },
     "execution_count": 14,
     "metadata": {},
     "output_type": "execute_result"
    }
   ],
   "source": [
    "df.count()"
   ]
  },
  {
   "cell_type": "markdown",
   "metadata": {},
   "source": [
    "However, we could also use the DataFrame's `.isnan()` function, and sum up the result (as `.isnan()` will produce either a 1 or 0)."
   ]
  },
  {
   "cell_type": "code",
   "execution_count": 15,
   "metadata": {},
   "outputs": [
    {
     "data": {
      "text/plain": [
       "779"
      ]
     },
     "execution_count": 15,
     "metadata": {},
     "output_type": "execute_result"
    }
   ],
   "source": [
    "df['change'].isna().sum()"
   ]
  },
  {
   "cell_type": "markdown",
   "metadata": {},
   "source": [
    "To get a better feeling of what these anomalies are, we can filter the DataFrame to just have a look at the rows that don't have a `change` value."
   ]
  },
  {
   "cell_type": "code",
   "execution_count": 16,
   "metadata": {},
   "outputs": [
    {
     "data": {
      "text/plain": [
       "sitting_mp  former_mp\n",
       "No          No           764\n",
       "            Yes            3\n",
       "Yes         Yes           12\n",
       "dtype: int64"
      ]
     },
     "execution_count": 16,
     "metadata": {},
     "output_type": "execute_result"
    }
   ],
   "source": [
    "df[ df['change'].isna() ].groupby([\"sitting_mp\", \"former_mp\"]).size()"
   ]
  },
  {
   "cell_type": "code",
   "execution_count": 17,
   "metadata": {},
   "outputs": [
    {
     "data": {
      "text/html": [
       "<div>\n",
       "<style scoped>\n",
       "    .dataframe tbody tr th:only-of-type {\n",
       "        vertical-align: middle;\n",
       "    }\n",
       "\n",
       "    .dataframe tbody tr th {\n",
       "        vertical-align: top;\n",
       "    }\n",
       "\n",
       "    .dataframe thead th {\n",
       "        text-align: right;\n",
       "    }\n",
       "</style>\n",
       "<table border=\"1\" class=\"dataframe\">\n",
       "  <thead>\n",
       "    <tr style=\"text-align: right;\">\n",
       "      <th></th>\n",
       "      <th>ons_id</th>\n",
       "      <th>ons_region_id</th>\n",
       "      <th>constituency_name</th>\n",
       "      <th>county_name</th>\n",
       "      <th>region_name</th>\n",
       "      <th>country_name</th>\n",
       "      <th>constituency_type</th>\n",
       "      <th>party_name</th>\n",
       "      <th>party_abbreviation</th>\n",
       "      <th>firstname</th>\n",
       "      <th>surname</th>\n",
       "      <th>gender</th>\n",
       "      <th>sitting_mp</th>\n",
       "      <th>former_mp</th>\n",
       "      <th>votes</th>\n",
       "      <th>share</th>\n",
       "      <th>change</th>\n",
       "    </tr>\n",
       "  </thead>\n",
       "  <tbody>\n",
       "    <tr>\n",
       "      <th>152</th>\n",
       "      <td>E14000550</td>\n",
       "      <td>E12000008</td>\n",
       "      <td>Beaconsfield</td>\n",
       "      <td>Buckinghamshire</td>\n",
       "      <td>South East</td>\n",
       "      <td>England</td>\n",
       "      <td>County</td>\n",
       "      <td>Independent</td>\n",
       "      <td>Ind</td>\n",
       "      <td>Dominic</td>\n",
       "      <td>Grieve</td>\n",
       "      <td>Male</td>\n",
       "      <td>Yes</td>\n",
       "      <td>Yes</td>\n",
       "      <td>16765</td>\n",
       "      <td>0.289711</td>\n",
       "      <td>NaN</td>\n",
       "    </tr>\n",
       "    <tr>\n",
       "      <th>215</th>\n",
       "      <td>E14000559</td>\n",
       "      <td>E12000002</td>\n",
       "      <td>Birkenhead</td>\n",
       "      <td>Merseyside</td>\n",
       "      <td>North West</td>\n",
       "      <td>England</td>\n",
       "      <td>Borough</td>\n",
       "      <td>Birkenhead Social Justice Party</td>\n",
       "      <td>Birkenhead Social Justice Party</td>\n",
       "      <td>Frank</td>\n",
       "      <td>Field</td>\n",
       "      <td>Male</td>\n",
       "      <td>Yes</td>\n",
       "      <td>Yes</td>\n",
       "      <td>7285</td>\n",
       "      <td>0.172104</td>\n",
       "      <td>NaN</td>\n",
       "    </tr>\n",
       "    <tr>\n",
       "      <th>232</th>\n",
       "      <td>E14000562</td>\n",
       "      <td>E12000005</td>\n",
       "      <td>Birmingham, Hall Green</td>\n",
       "      <td>West Midlands</td>\n",
       "      <td>West Midlands</td>\n",
       "      <td>England</td>\n",
       "      <td>Borough</td>\n",
       "      <td>Independent</td>\n",
       "      <td>Ind</td>\n",
       "      <td>Roger</td>\n",
       "      <td>Godsiff</td>\n",
       "      <td>Male</td>\n",
       "      <td>Yes</td>\n",
       "      <td>Yes</td>\n",
       "      <td>4273</td>\n",
       "      <td>0.080758</td>\n",
       "      <td>NaN</td>\n",
       "    </tr>\n",
       "    <tr>\n",
       "      <th>483</th>\n",
       "      <td>E14000607</td>\n",
       "      <td>E12000004</td>\n",
       "      <td>Broxtowe</td>\n",
       "      <td>Nottinghamshire</td>\n",
       "      <td>East Midlands</td>\n",
       "      <td>England</td>\n",
       "      <td>County</td>\n",
       "      <td>The Independent Group for Change</td>\n",
       "      <td>IGC</td>\n",
       "      <td>Anna</td>\n",
       "      <td>Soubry</td>\n",
       "      <td>Female</td>\n",
       "      <td>Yes</td>\n",
       "      <td>Yes</td>\n",
       "      <td>4668</td>\n",
       "      <td>0.084455</td>\n",
       "      <td>NaN</td>\n",
       "    </tr>\n",
       "    <tr>\n",
       "      <th>514</th>\n",
       "      <td>E14000612</td>\n",
       "      <td>E12000002</td>\n",
       "      <td>Bury South</td>\n",
       "      <td>Greater Manchester</td>\n",
       "      <td>North West</td>\n",
       "      <td>England</td>\n",
       "      <td>Borough</td>\n",
       "      <td>Independent</td>\n",
       "      <td>Ind</td>\n",
       "      <td>Ivan</td>\n",
       "      <td>Lewis</td>\n",
       "      <td>Male</td>\n",
       "      <td>Yes</td>\n",
       "      <td>Yes</td>\n",
       "      <td>1366</td>\n",
       "      <td>0.027171</td>\n",
       "      <td>NaN</td>\n",
       "    </tr>\n",
       "    <tr>\n",
       "      <th>677</th>\n",
       "      <td>E14000637</td>\n",
       "      <td>E12000002</td>\n",
       "      <td>Chorley</td>\n",
       "      <td>Lancashire</td>\n",
       "      <td>North West</td>\n",
       "      <td>England</td>\n",
       "      <td>County</td>\n",
       "      <td>Speaker</td>\n",
       "      <td>Spk</td>\n",
       "      <td>Lindsay</td>\n",
       "      <td>Hoyle</td>\n",
       "      <td>Male</td>\n",
       "      <td>Yes</td>\n",
       "      <td>Yes</td>\n",
       "      <td>26831</td>\n",
       "      <td>0.672962</td>\n",
       "      <td>NaN</td>\n",
       "    </tr>\n",
       "    <tr>\n",
       "      <th>839</th>\n",
       "      <td>E14000662</td>\n",
       "      <td>E12000004</td>\n",
       "      <td>Derby North</td>\n",
       "      <td>Derbyshire</td>\n",
       "      <td>East Midlands</td>\n",
       "      <td>England</td>\n",
       "      <td>Borough</td>\n",
       "      <td>Independent</td>\n",
       "      <td>Ind</td>\n",
       "      <td>Chris</td>\n",
       "      <td>Williamson</td>\n",
       "      <td>Male</td>\n",
       "      <td>Yes</td>\n",
       "      <td>Yes</td>\n",
       "      <td>635</td>\n",
       "      <td>0.013506</td>\n",
       "      <td>NaN</td>\n",
       "    </tr>\n",
       "    <tr>\n",
       "      <th>1297</th>\n",
       "      <td>E14000719</td>\n",
       "      <td>E12000008</td>\n",
       "      <td>Guildford</td>\n",
       "      <td>Surrey</td>\n",
       "      <td>South East</td>\n",
       "      <td>England</td>\n",
       "      <td>County</td>\n",
       "      <td>Independent</td>\n",
       "      <td>Ind</td>\n",
       "      <td>Anne</td>\n",
       "      <td>Milton</td>\n",
       "      <td>Female</td>\n",
       "      <td>Yes</td>\n",
       "      <td>Yes</td>\n",
       "      <td>4356</td>\n",
       "      <td>0.074270</td>\n",
       "      <td>NaN</td>\n",
       "    </tr>\n",
       "    <tr>\n",
       "      <th>1508</th>\n",
       "      <td>E14000760</td>\n",
       "      <td>E12000007</td>\n",
       "      <td>Ilford South</td>\n",
       "      <td>London</td>\n",
       "      <td>London</td>\n",
       "      <td>England</td>\n",
       "      <td>Borough</td>\n",
       "      <td>The Independent Group for Change</td>\n",
       "      <td>IGC</td>\n",
       "      <td>Mike</td>\n",
       "      <td>Gapes</td>\n",
       "      <td>Male</td>\n",
       "      <td>Yes</td>\n",
       "      <td>Yes</td>\n",
       "      <td>3891</td>\n",
       "      <td>0.072760</td>\n",
       "      <td>NaN</td>\n",
       "    </tr>\n",
       "    <tr>\n",
       "      <th>1801</th>\n",
       "      <td>E14000801</td>\n",
       "      <td>E12000006</td>\n",
       "      <td>Luton South</td>\n",
       "      <td>Bedfordshire</td>\n",
       "      <td>East</td>\n",
       "      <td>England</td>\n",
       "      <td>Borough</td>\n",
       "      <td>Independent</td>\n",
       "      <td>Ind</td>\n",
       "      <td>Gavin</td>\n",
       "      <td>Shuker</td>\n",
       "      <td>Male</td>\n",
       "      <td>Yes</td>\n",
       "      <td>Yes</td>\n",
       "      <td>3893</td>\n",
       "      <td>0.092549</td>\n",
       "      <td>NaN</td>\n",
       "    </tr>\n",
       "    <tr>\n",
       "      <th>2191</th>\n",
       "      <td>E14000865</td>\n",
       "      <td>E12000004</td>\n",
       "      <td>Nottingham East</td>\n",
       "      <td>Nottinghamshire</td>\n",
       "      <td>East Midlands</td>\n",
       "      <td>England</td>\n",
       "      <td>Borough</td>\n",
       "      <td>The Independent Group for Change</td>\n",
       "      <td>IGC</td>\n",
       "      <td>Chris</td>\n",
       "      <td>Leslie</td>\n",
       "      <td>Male</td>\n",
       "      <td>Yes</td>\n",
       "      <td>Yes</td>\n",
       "      <td>1447</td>\n",
       "      <td>0.036171</td>\n",
       "      <td>NaN</td>\n",
       "    </tr>\n",
       "    <tr>\n",
       "      <th>2712</th>\n",
       "      <td>E14000951</td>\n",
       "      <td>E12000006</td>\n",
       "      <td>South West Hertfordshire</td>\n",
       "      <td>Hertfordshire</td>\n",
       "      <td>East</td>\n",
       "      <td>England</td>\n",
       "      <td>County</td>\n",
       "      <td>Independent</td>\n",
       "      <td>Ind</td>\n",
       "      <td>David</td>\n",
       "      <td>Gauke</td>\n",
       "      <td>Male</td>\n",
       "      <td>Yes</td>\n",
       "      <td>Yes</td>\n",
       "      <td>15919</td>\n",
       "      <td>0.260153</td>\n",
       "      <td>NaN</td>\n",
       "    </tr>\n",
       "  </tbody>\n",
       "</table>\n",
       "</div>"
      ],
      "text/plain": [
       "         ons_id ons_region_id         constituency_name         county_name  \\\n",
       "152   E14000550     E12000008              Beaconsfield     Buckinghamshire   \n",
       "215   E14000559     E12000002                Birkenhead          Merseyside   \n",
       "232   E14000562     E12000005    Birmingham, Hall Green       West Midlands   \n",
       "483   E14000607     E12000004                  Broxtowe     Nottinghamshire   \n",
       "514   E14000612     E12000002                Bury South  Greater Manchester   \n",
       "677   E14000637     E12000002                   Chorley          Lancashire   \n",
       "839   E14000662     E12000004               Derby North          Derbyshire   \n",
       "1297  E14000719     E12000008                 Guildford              Surrey   \n",
       "1508  E14000760     E12000007              Ilford South              London   \n",
       "1801  E14000801     E12000006               Luton South        Bedfordshire   \n",
       "2191  E14000865     E12000004           Nottingham East     Nottinghamshire   \n",
       "2712  E14000951     E12000006  South West Hertfordshire       Hertfordshire   \n",
       "\n",
       "        region_name country_name constituency_type  \\\n",
       "152      South East      England            County   \n",
       "215      North West      England           Borough   \n",
       "232   West Midlands      England           Borough   \n",
       "483   East Midlands      England            County   \n",
       "514      North West      England           Borough   \n",
       "677      North West      England            County   \n",
       "839   East Midlands      England           Borough   \n",
       "1297     South East      England            County   \n",
       "1508         London      England           Borough   \n",
       "1801           East      England           Borough   \n",
       "2191  East Midlands      England           Borough   \n",
       "2712           East      England            County   \n",
       "\n",
       "                            party_name               party_abbreviation  \\\n",
       "152                        Independent                              Ind   \n",
       "215    Birkenhead Social Justice Party  Birkenhead Social Justice Party   \n",
       "232                        Independent                              Ind   \n",
       "483   The Independent Group for Change                              IGC   \n",
       "514                        Independent                              Ind   \n",
       "677                            Speaker                              Spk   \n",
       "839                        Independent                              Ind   \n",
       "1297                       Independent                              Ind   \n",
       "1508  The Independent Group for Change                              IGC   \n",
       "1801                       Independent                              Ind   \n",
       "2191  The Independent Group for Change                              IGC   \n",
       "2712                       Independent                              Ind   \n",
       "\n",
       "     firstname     surname  gender sitting_mp former_mp  votes     share  \\\n",
       "152    Dominic      Grieve    Male        Yes       Yes  16765  0.289711   \n",
       "215      Frank       Field    Male        Yes       Yes   7285  0.172104   \n",
       "232      Roger     Godsiff    Male        Yes       Yes   4273  0.080758   \n",
       "483       Anna      Soubry  Female        Yes       Yes   4668  0.084455   \n",
       "514       Ivan       Lewis    Male        Yes       Yes   1366  0.027171   \n",
       "677    Lindsay       Hoyle    Male        Yes       Yes  26831  0.672962   \n",
       "839      Chris  Williamson    Male        Yes       Yes    635  0.013506   \n",
       "1297      Anne      Milton  Female        Yes       Yes   4356  0.074270   \n",
       "1508      Mike       Gapes    Male        Yes       Yes   3891  0.072760   \n",
       "1801     Gavin      Shuker    Male        Yes       Yes   3893  0.092549   \n",
       "2191     Chris      Leslie    Male        Yes       Yes   1447  0.036171   \n",
       "2712     David       Gauke    Male        Yes       Yes  15919  0.260153   \n",
       "\n",
       "      change  \n",
       "152      NaN  \n",
       "215      NaN  \n",
       "232      NaN  \n",
       "483      NaN  \n",
       "514      NaN  \n",
       "677      NaN  \n",
       "839      NaN  \n",
       "1297     NaN  \n",
       "1508     NaN  \n",
       "1801     NaN  \n",
       "2191     NaN  \n",
       "2712     NaN  "
      ]
     },
     "execution_count": 17,
     "metadata": {},
     "output_type": "execute_result"
    }
   ],
   "source": [
    "df.loc[ (df['change'].isna()) & (df['sitting_mp'] == \"Yes\")]"
   ]
  },
  {
   "cell_type": "code",
   "execution_count": 18,
   "metadata": {},
   "outputs": [
    {
     "data": {
      "text/plain": [
       "array(['Independent', 'Birkenhead Social Justice Party',\n",
       "       'The Independent Group for Change', 'Speaker'], dtype=object)"
      ]
     },
     "execution_count": 18,
     "metadata": {},
     "output_type": "execute_result"
    }
   ],
   "source": [
    "df.loc[ (df['change'].isna()) & (df['sitting_mp'] == \"Yes\")]['party_name'].unique()"
   ]
  },
  {
   "cell_type": "code",
   "execution_count": 19,
   "metadata": {},
   "outputs": [
    {
     "data": {
      "text/plain": [
       "array(['Labour', 'Scottish National Party', 'Conservative',\n",
       "       'Liberal Democrat', 'Plaid Cymru', 'Labour and Co-operative',\n",
       "       'Democratic Unionist Party', 'Sinn Fein', 'Green'], dtype=object)"
      ]
     },
     "execution_count": 19,
     "metadata": {},
     "output_type": "execute_result"
    }
   ],
   "source": [
    "df.loc[ (df['change'].notna()) & (df['sitting_mp'] == \"Yes\")]['party_name'].unique()"
   ]
  },
  {
   "cell_type": "code",
   "execution_count": 20,
   "metadata": {},
   "outputs": [
    {
     "name": "stdout",
     "output_type": "stream",
     "text": [
      "Advance Together 0/0\n",
      "Alliance 0/0\n",
      "Alliance for Green Socialism 0/0\n",
      "Animal Welfare Party 0/0\n",
      "Aontú 0/0\n",
      "Ashfield Independents 0/0\n",
      "Birkenhead Social Justice Party 1/1\n",
      "Brexit Party 0/0\n",
      "British National Party 0/0\n",
      "Burnley and Padiham independent Party 0/0\n",
      "Christian Party, Proclaiming Christ's Lordship 0/0\n",
      "Christian Peoples Alliance Party 0/0\n",
      "Church of the Militant Elvis Party 0/0\n",
      "Communist League Election Campaign 0/0\n",
      "Communities United Party 0/0\n",
      "Conservative 0/266\n",
      "Cumbria First  0/0\n",
      "Democratic Unionist Party 0/9\n",
      "English Democrats 0/0\n",
      "Green 0/1\n",
      "Gwlad Gwlad 0/0\n",
      "Heavy Woollen District Independents 0/0\n",
      "Independent 7/7\n",
      "Independent Network 0/0\n",
      "Justice and Anti-Corruption Party 0/0\n",
      "Labour 0/192\n",
      "Labour and Co-operative 0/30\n",
      "Liberal 0/0\n",
      "Liberal Democrat 0/18\n",
      "Libertarian Party 0/0\n",
      "Linconshire Independents  0/0\n",
      "Mebyon Kernow 0/0\n",
      "Monster Raving Loony Party 0/0\n",
      "Motherworld Party 0/0\n",
      "Patria 0/0\n",
      "People Before Profit Alliance 0/0\n",
      "Plaid Cymru 0/4\n",
      "Proud of Oldham & Saddleworth 0/0\n",
      "Psychedelic Future Party 0/0\n",
      "Rebooting Democracy 0/0\n",
      "Renew 0/0\n",
      "Scottish Family Party 0/0\n",
      "Scottish National Party 0/35\n",
      "Shropshire Prty 0/0\n",
      "Sinn Fein 0/7\n",
      "Social Democratic Party 0/0\n",
      "Social Democratic and Labour Party 0/0\n",
      "Socialist Equality Party 0/0\n",
      "Socialist Labour Party 0/0\n",
      "Space Navies Party 0/0\n",
      "Speaker 1/1\n",
      "The Best for Luton Party 0/0\n",
      "The Citizens Movement Party UK 0/0\n",
      "The Common People 0/0\n",
      "The Constitution and Reform Party 0/0\n",
      "The Cynon Valley Party 0/0\n",
      "The Independent Group for Change 3/3\n",
      "The North East Party 0/0\n",
      "The Peace Party 0/0\n",
      "The Socialist Party of Great Britain 0/0\n",
      "The Yorkshire Party 0/0\n",
      "Touch Love Worldwide (UK) 0/0\n",
      "UK Independence Party 0/0\n",
      "Ulster Unionist Party 0/0\n",
      "Universal Good Party 0/0\n",
      "Veterans and People's Party 0/0\n",
      "Women's Equality Party 0/0\n",
      "Workers Revolutionary Party 0/0\n",
      "Wycombe Independents 0/0\n",
      "Yeshua 0/0\n",
      "Young People's Party 0/0\n"
     ]
    }
   ],
   "source": [
    "for party, subset_df in df.groupby(\"party_name\"):\n",
    "    select = subset_df.loc[ df['sitting_mp'] == \"Yes\" ]\n",
    "    print(party, \"{}/{}\".format(select['change'].isna().sum(),len(select)))"
   ]
  },
  {
   "cell_type": "code",
   "execution_count": 21,
   "metadata": {},
   "outputs": [
    {
     "data": {
      "text/html": [
       "<div>\n",
       "<style scoped>\n",
       "    .dataframe tbody tr th:only-of-type {\n",
       "        vertical-align: middle;\n",
       "    }\n",
       "\n",
       "    .dataframe tbody tr th {\n",
       "        vertical-align: top;\n",
       "    }\n",
       "\n",
       "    .dataframe thead th {\n",
       "        text-align: right;\n",
       "    }\n",
       "</style>\n",
       "<table border=\"1\" class=\"dataframe\">\n",
       "  <thead>\n",
       "    <tr style=\"text-align: right;\">\n",
       "      <th></th>\n",
       "      <th>ons_id</th>\n",
       "      <th>ons_region_id</th>\n",
       "      <th>constituency_name</th>\n",
       "      <th>county_name</th>\n",
       "      <th>region_name</th>\n",
       "      <th>country_name</th>\n",
       "      <th>constituency_type</th>\n",
       "      <th>party_name</th>\n",
       "      <th>party_abbreviation</th>\n",
       "      <th>firstname</th>\n",
       "      <th>surname</th>\n",
       "      <th>gender</th>\n",
       "      <th>sitting_mp</th>\n",
       "      <th>former_mp</th>\n",
       "      <th>votes</th>\n",
       "      <th>share</th>\n",
       "      <th>change</th>\n",
       "    </tr>\n",
       "  </thead>\n",
       "  <tbody>\n",
       "    <tr>\n",
       "      <th>1096</th>\n",
       "      <td>E14000693</td>\n",
       "      <td>E12000006</td>\n",
       "      <td>Epping Forest</td>\n",
       "      <td>Essex</td>\n",
       "      <td>East</td>\n",
       "      <td>England</td>\n",
       "      <td>County</td>\n",
       "      <td>Young People's Party</td>\n",
       "      <td>Young People's Party</td>\n",
       "      <td>Thomas</td>\n",
       "      <td>Hall</td>\n",
       "      <td>Male</td>\n",
       "      <td>No</td>\n",
       "      <td>No</td>\n",
       "      <td>181</td>\n",
       "      <td>0.003601</td>\n",
       "      <td>0.001434</td>\n",
       "    </tr>\n",
       "    <tr>\n",
       "      <th>1166</th>\n",
       "      <td>E14000704</td>\n",
       "      <td>E12000008</td>\n",
       "      <td>Folkestone and Hythe</td>\n",
       "      <td>Kent</td>\n",
       "      <td>South East</td>\n",
       "      <td>England</td>\n",
       "      <td>County</td>\n",
       "      <td>Young People's Party</td>\n",
       "      <td>Young People's Party</td>\n",
       "      <td>Rohen</td>\n",
       "      <td>Kapur</td>\n",
       "      <td>Male</td>\n",
       "      <td>No</td>\n",
       "      <td>No</td>\n",
       "      <td>80</td>\n",
       "      <td>0.001356</td>\n",
       "      <td>NaN</td>\n",
       "    </tr>\n",
       "    <tr>\n",
       "      <th>1715</th>\n",
       "      <td>E14000787</td>\n",
       "      <td>E12000007</td>\n",
       "      <td>Lewisham East</td>\n",
       "      <td>London</td>\n",
       "      <td>London</td>\n",
       "      <td>England</td>\n",
       "      <td>Borough</td>\n",
       "      <td>Young People's Party</td>\n",
       "      <td>Young People's Party</td>\n",
       "      <td>Richard</td>\n",
       "      <td>Galloway</td>\n",
       "      <td>Male</td>\n",
       "      <td>No</td>\n",
       "      <td>No</td>\n",
       "      <td>50</td>\n",
       "      <td>0.001116</td>\n",
       "      <td>NaN</td>\n",
       "    </tr>\n",
       "  </tbody>\n",
       "</table>\n",
       "</div>"
      ],
      "text/plain": [
       "         ons_id ons_region_id     constituency_name county_name region_name  \\\n",
       "1096  E14000693     E12000006         Epping Forest       Essex        East   \n",
       "1166  E14000704     E12000008  Folkestone and Hythe        Kent  South East   \n",
       "1715  E14000787     E12000007         Lewisham East      London      London   \n",
       "\n",
       "     country_name constituency_type            party_name  \\\n",
       "1096      England            County  Young People's Party   \n",
       "1166      England            County  Young People's Party   \n",
       "1715      England           Borough  Young People's Party   \n",
       "\n",
       "        party_abbreviation firstname   surname gender sitting_mp former_mp  \\\n",
       "1096  Young People's Party   Thomas       Hall   Male         No        No   \n",
       "1166  Young People's Party     Rohen     Kapur   Male         No        No   \n",
       "1715  Young People's Party   Richard  Galloway   Male         No        No   \n",
       "\n",
       "      votes     share    change  \n",
       "1096    181  0.003601  0.001434  \n",
       "1166     80  0.001356       NaN  \n",
       "1715     50  0.001116       NaN  "
      ]
     },
     "execution_count": 21,
     "metadata": {},
     "output_type": "execute_result"
    }
   ],
   "source": [
    "subset_df"
   ]
  },
  {
   "cell_type": "markdown",
   "metadata": {},
   "source": [
    "As we can see above, the only rows that do not have a change value are either those where the winning MP was not the previous sitting MP, or where the MP runs as an Independent."
   ]
  },
  {
   "cell_type": "markdown",
   "metadata": {},
   "source": [
    "# Example of using Geopandas"
   ]
  },
  {
   "cell_type": "code",
   "execution_count": 22,
   "metadata": {},
   "outputs": [],
   "source": [
    "import geopandas"
   ]
  },
  {
   "cell_type": "code",
   "execution_count": 23,
   "metadata": {},
   "outputs": [],
   "source": [
    "mapdf = geopandas.read_file(\"../potential_datasets/election_2019/UK_Constituencies_December_2017_/Westminster_Parliamentary_Constituencies_December_2017_Generalised_Clipped_Boundaries_in_the_UK.shp\")"
   ]
  },
  {
   "cell_type": "code",
   "execution_count": 24,
   "metadata": {},
   "outputs": [],
   "source": [
    "import matplotlib.pyplot as plt"
   ]
  },
  {
   "cell_type": "code",
   "execution_count": 32,
   "metadata": {},
   "outputs": [
    {
     "data": {
      "image/png": "[encoded data removed]",
      "text/plain": [
       "<Figure size 432x288 with 1 Axes>"
      ]
     },
     "metadata": {
      "needs_background": "light"
     },
     "output_type": "display_data"
    }
   ],
   "source": [
    "mapdf.plot()\n",
    "plt.show()"
   ]
  },
  {
   "cell_type": "code",
   "execution_count": 34,
   "metadata": {},
   "outputs": [
    {
     "data": {
      "text/plain": [
       "<Figure size 432x288 with 0 Axes>"
      ]
     },
     "metadata": {},
     "output_type": "display_data"
    },
    {
     "data": {
      "image/png": "[encoded data removed]",
      "text/plain": [
       "<Figure size 432x288 with 1 Axes>"
      ]
     },
     "metadata": {
      "needs_background": "light"
     },
     "output_type": "display_data"
    }
   ],
   "source": [
    "f, ax = plt.subplots(0)\n",
    "ax = mapdf.plot()\n",
    "ax.set_axis_off()\n",
    "plt.show()"
   ]
  },
  {
   "cell_type": "code",
   "execution_count": null,
   "metadata": {},
   "outputs": [],
   "source": []
  }
 ],
 "metadata": {
  "kernelspec": {
   "display_name": "Python 3",
   "language": "python",
   "name": "python3"
  },
  "language_info": {
   "codemirror_mode": {
    "name": "ipython",
    "version": 3
   },
   "file_extension": ".py",
   "mimetype": "text/x-python",
   "name": "python",
   "nbconvert_exporter": "python",
   "pygments_lexer": "ipython3",
   "version": "3.7.4"
  }
 },
 "nbformat": 4,
 "nbformat_minor": 4
}
