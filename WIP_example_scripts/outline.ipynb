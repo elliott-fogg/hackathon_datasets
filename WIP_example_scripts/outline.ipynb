{
 "cells": [
  {
   "cell_type": "markdown",
   "metadata": {},
   "source": [
    "# Stuff to include:\n",
    "* Load data into dataframe\n",
    "* .head(), .head(5)\n",
    "* .info()\n",
    "* .shape\n",
    "* .columns\n",
    "* .rename(dict{'orig_name':'new_name'})\n",
    "* .isnull(), .sum() - To work out the number of null values in a column\n",
    "* Select a column, or combination of columns - `df[['col1, col2']]`\n",
    "* .describe()\n",
    "* df['column'].describe()\n",
    "* .value_counts()\n",
    "\n",
    "* Filter dataframe by a condition - `df[ df['col'] == Val ]`\n",
    "* Get unique values - `df['col'].unqiue()`\n",
    "* Get unique combinations of column values\n",
    "* Create a new column from existing columns\n",
    "* Join two datasets together\n",
    "* .apply() to create a new column\n",
    "* Plot some data\n",
    "\n",
    "* Analysis suggestions to get them started\n",
    "\n",
    "* Creating a new column through the df.apply() function, especially with Lambda functions"
   ]
  },
  {
   "cell_type": "markdown",
   "metadata": {},
   "source": [
    "Something about using axis=1 for operations like `.apply()` to make sure it runs over rows, instead of columns.\n",
    "Potentially something about using these operations over columns as well."
   ]
  },
  {
   "cell_type": "markdown",
   "metadata": {},
   "source": [
    "* Create a new column from existing columns\n",
    "* Join two datasets together\n",
    "* .apply() to create a new column\n",
    "* Plot some data\n",
    "\n",
    "* Analysis suggestions to get them started\n",
    "\n",
    "* Creating a new column through the df.apply() function, especially with Lambda functions"
   ]
  },
  {
   "cell_type": "markdown",
   "metadata": {},
   "source": [
    "#### How to create a distinct dataframe that is a subset of another dataframe without being just a view of the initial dataframe"
   ]
  },
  {
   "cell_type": "code",
   "execution_count": null,
   "metadata": {},
   "outputs": [],
   "source": []
  }
 ],
 "metadata": {
  "kernelspec": {
   "display_name": "Python 3",
   "language": "python",
   "name": "python3"
  },
  "language_info": {
   "codemirror_mode": {
    "name": "ipython",
    "version": 3
   },
   "file_extension": ".py",
   "mimetype": "text/x-python",
   "name": "python",
   "nbconvert_exporter": "python",
   "pygments_lexer": "ipython3",
   "version": "3.7.3"
  }
 },
 "nbformat": 4,
 "nbformat_minor": 4
}
