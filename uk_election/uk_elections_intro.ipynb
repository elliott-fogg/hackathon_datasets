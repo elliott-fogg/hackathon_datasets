{
 "cells": [
  {
   "cell_type": "code",
   "execution_count": 1,
   "metadata": {},
   "outputs": [],
   "source": [
    "# Import necessary libraries\n",
    "import pandas as pd"
   ]
  },
  {
   "cell_type": "code",
   "execution_count": 2,
   "metadata": {},
   "outputs": [],
   "source": [
    "# Read in the datafiles\n",
    "ca2019 = pd.read_csv(\"data/HoC-GE2019-results-by-candidate.csv\")\n",
    "ca2017 = pd.read_csv(\"data/HoC-GE2017-results-by-candidate.csv\")\n",
    "con2019 = pd.read_csv(\"data/HoC-GE2019-results-by-constituency.csv\")\n",
    "con2017 = pd.read_csv(\"data/HoC-GE2017-constituency-results.csv\")\n",
    "referendum = pd.read_csv(\"data/EU-referendum-result-data.csv\")"
   ]
  },
  {
   "cell_type": "markdown",
   "metadata": {},
   "source": [
    "---"
   ]
  },
  {
   "cell_type": "code",
   "execution_count": 28,
   "metadata": {},
   "outputs": [
    {
     "data": {
      "text/plain": [
       "Index(['ons_id', 'ons_region_id', 'constituency_name', 'county_name',\n",
       "       'region_name', 'country_name', 'constituency_type', 'declaration_time',\n",
       "       'result', 'first_party', 'second_party', 'electorate', 'valid_votes',\n",
       "       'invalid_votes', 'majority', 'con', 'lab', 'ld', 'ukip', 'green', 'snp',\n",
       "       'pc', 'dup', 'sf', 'sdlp', 'uup', 'alliance', 'other', 'other_winner',\n",
       "       'year'],\n",
       "      dtype='object')"
      ]
     },
     "execution_count": 28,
     "metadata": {},
     "output_type": "execute_result"
    }
   ],
   "source": [
    "con2017.columns"
   ]
  },
  {
   "cell_type": "code",
   "execution_count": 8,
   "metadata": {},
   "outputs": [
    {
     "name": "stdout",
     "output_type": "stream",
     "text": [
      "id:\n",
      "Region_Code:\n",
      "Region:\n",
      "Area_Code:\n",
      "Area:\n",
      "Electorate:\n",
      "ExpectedBallots:\n",
      "VerifiedBallotPapers:\n",
      "Pct_Turnout:\n",
      "Votes_Cast:\n",
      "Valid_Votes:\n",
      "Remain:\n",
      "Leave:\n",
      "Rejected_Ballots:\n",
      "No_official_mark:\n",
      "Voting_for_both_answers:\n",
      "Writing_or_mark:\n",
      "Unmarked_or_void:\n",
      "Pct_Remain:\n",
      "Pct_Leave:\n",
      "Pct_Rejected:\n"
     ]
    }
   ],
   "source": [
    "for col in referendum.columns:\n",
    "    print(\"{}:\".format(col))"
   ]
  },
  {
   "cell_type": "code",
   "execution_count": 33,
   "metadata": {},
   "outputs": [
    {
     "name": "stdout",
     "output_type": "stream",
     "text": [
      "2019 not in 2017:\n",
      "mp_firstname\n",
      "mp_surname\n",
      "mp_gender\n",
      "brexit\n",
      "\n",
      "2017 not in 2019:\n",
      "ukip\n"
     ]
    }
   ],
   "source": [
    "print(\"2019 not in 2017:\")\n",
    "for col in con2019.columns:\n",
    "    if not (col in con2017.columns):\n",
    "        print(col)\n",
    "\n",
    "print(\"\\n2017 not in 2019:\")\n",
    "for col in con2017.columns:\n",
    "    if not (col in con2019.columns):\n",
    "        print(col)"
   ]
  },
  {
   "cell_type": "code",
   "execution_count": null,
   "metadata": {},
   "outputs": [],
   "source": []
  }
 ],
 "metadata": {
  "kernelspec": {
   "display_name": "Python 3",
   "language": "python",
   "name": "python3"
  },
  "language_info": {
   "codemirror_mode": {
    "name": "ipython",
    "version": 3
   },
   "file_extension": ".py",
   "mimetype": "text/x-python",
   "name": "python",
   "nbconvert_exporter": "python",
   "pygments_lexer": "ipython3",
   "version": "3.7.4"
  }
 },
 "nbformat": 4,
 "nbformat_minor": 2
}
