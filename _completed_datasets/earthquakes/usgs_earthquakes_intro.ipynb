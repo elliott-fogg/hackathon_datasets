{
 "cells": [
  {
   "cell_type": "markdown",
   "metadata": {},
   "source": [
    "# USGS Earthquake Database\n",
    "\n",
    "The United States Geological Survey keeps a record of all measured earthquakes, recorded from several seimic detection stations around the globe.\n",
    "\n",
    "Metadata for the columns in the dataset can be found at 'https://earthquake.usgs.gov/data/comcat/'"
   ]
  },
  {
   "cell_type": "code",
   "execution_count": 3,
   "metadata": {},
   "outputs": [],
   "source": [
    "import pandas as pd"
   ]
  },
  {
   "cell_type": "code",
   "execution_count": 6,
   "metadata": {},
   "outputs": [],
   "source": [
    "data = pd.read_csv(\"data/text/full_file.csv\", encoding='latin-1')"
   ]
  },
  {
   "cell_type": "code",
   "execution_count": 7,
   "metadata": {},
   "outputs": [
    {
     "data": {
      "text/html": [
       "<div>\n",
       "<style scoped>\n",
       "    .dataframe tbody tr th:only-of-type {\n",
       "        vertical-align: middle;\n",
       "    }\n",
       "\n",
       "    .dataframe tbody tr th {\n",
       "        vertical-align: top;\n",
       "    }\n",
       "\n",
       "    .dataframe thead th {\n",
       "        text-align: right;\n",
       "    }\n",
       "</style>\n",
       "<table border=\"1\" class=\"dataframe\">\n",
       "  <thead>\n",
       "    <tr style=\"text-align: right;\">\n",
       "      <th></th>\n",
       "      <th>#EventID</th>\n",
       "      <th>Time</th>\n",
       "      <th>Latitude</th>\n",
       "      <th>Longitude</th>\n",
       "      <th>Depth/km</th>\n",
       "      <th>Author</th>\n",
       "      <th>Catalog</th>\n",
       "      <th>Contributor</th>\n",
       "      <th>ContributorID</th>\n",
       "      <th>MagType</th>\n",
       "      <th>Magnitude</th>\n",
       "      <th>MagAuthor</th>\n",
       "      <th>EventLocationName</th>\n",
       "    </tr>\n",
       "  </thead>\n",
       "  <tbody>\n",
       "    <tr>\n",
       "      <td>0</td>\n",
       "      <td>ci3355511</td>\n",
       "      <td>1949-12-31T22:30:09.770</td>\n",
       "      <td>34.191167</td>\n",
       "      <td>-117.522000</td>\n",
       "      <td>4.49</td>\n",
       "      <td>ci</td>\n",
       "      <td>ci</td>\n",
       "      <td>ci</td>\n",
       "      <td>ci3355511</td>\n",
       "      <td>ml</td>\n",
       "      <td>2.58</td>\n",
       "      <td>ci</td>\n",
       "      <td>8km SSW of Lytle Creek, CA</td>\n",
       "    </tr>\n",
       "    <tr>\n",
       "      <td>1</td>\n",
       "      <td>ci3355510</td>\n",
       "      <td>1949-12-31T06:16:08.260</td>\n",
       "      <td>35.859333</td>\n",
       "      <td>-117.650667</td>\n",
       "      <td>0.00</td>\n",
       "      <td>ci</td>\n",
       "      <td>ci</td>\n",
       "      <td>ci</td>\n",
       "      <td>ci3355510</td>\n",
       "      <td>mh</td>\n",
       "      <td>2.01</td>\n",
       "      <td>ci</td>\n",
       "      <td>24km WNW of Searles Valley, CA</td>\n",
       "    </tr>\n",
       "    <tr>\n",
       "      <td>2</td>\n",
       "      <td>ci3355509</td>\n",
       "      <td>1949-12-30T23:14:21.690</td>\n",
       "      <td>32.143333</td>\n",
       "      <td>-116.628833</td>\n",
       "      <td>6.00</td>\n",
       "      <td>ci</td>\n",
       "      <td>ci</td>\n",
       "      <td>ci</td>\n",
       "      <td>ci3355509</td>\n",
       "      <td>ml</td>\n",
       "      <td>3.30</td>\n",
       "      <td>ci</td>\n",
       "      <td>28km N of El Sauzal, B.C., MX</td>\n",
       "    </tr>\n",
       "    <tr>\n",
       "      <td>3</td>\n",
       "      <td>ci3355508</td>\n",
       "      <td>1949-12-30T20:27:39.040</td>\n",
       "      <td>33.856167</td>\n",
       "      <td>-118.089333</td>\n",
       "      <td>0.25</td>\n",
       "      <td>ci</td>\n",
       "      <td>ci</td>\n",
       "      <td>ci</td>\n",
       "      <td>ci3355508</td>\n",
       "      <td>ml</td>\n",
       "      <td>1.83</td>\n",
       "      <td>ci</td>\n",
       "      <td>1km SSW of Artesia, CA</td>\n",
       "    </tr>\n",
       "    <tr>\n",
       "      <td>4</td>\n",
       "      <td>ci3355506</td>\n",
       "      <td>1949-12-30T11:13:51.930</td>\n",
       "      <td>32.113000</td>\n",
       "      <td>-116.806333</td>\n",
       "      <td>6.00</td>\n",
       "      <td>ci</td>\n",
       "      <td>ci</td>\n",
       "      <td>ci</td>\n",
       "      <td>ci3355506</td>\n",
       "      <td>ml</td>\n",
       "      <td>3.02</td>\n",
       "      <td>ci</td>\n",
       "      <td>16km SE of Primo Tapia, B.C., MX</td>\n",
       "    </tr>\n",
       "  </tbody>\n",
       "</table>\n",
       "</div>"
      ],
      "text/plain": [
       "    #EventID                     Time   Latitude   Longitude  Depth/km Author  \\\n",
       "0  ci3355511  1949-12-31T22:30:09.770  34.191167 -117.522000      4.49     ci   \n",
       "1  ci3355510  1949-12-31T06:16:08.260  35.859333 -117.650667      0.00     ci   \n",
       "2  ci3355509  1949-12-30T23:14:21.690  32.143333 -116.628833      6.00     ci   \n",
       "3  ci3355508  1949-12-30T20:27:39.040  33.856167 -118.089333      0.25     ci   \n",
       "4  ci3355506  1949-12-30T11:13:51.930  32.113000 -116.806333      6.00     ci   \n",
       "\n",
       "  Catalog Contributor ContributorID MagType  Magnitude MagAuthor  \\\n",
       "0      ci          ci     ci3355511      ml       2.58        ci   \n",
       "1      ci          ci     ci3355510      mh       2.01        ci   \n",
       "2      ci          ci     ci3355509      ml       3.30        ci   \n",
       "3      ci          ci     ci3355508      ml       1.83        ci   \n",
       "4      ci          ci     ci3355506      ml       3.02        ci   \n",
       "\n",
       "                  EventLocationName  \n",
       "0        8km SSW of Lytle Creek, CA  \n",
       "1    24km WNW of Searles Valley, CA  \n",
       "2     28km N of El Sauzal, B.C., MX  \n",
       "3            1km SSW of Artesia, CA  \n",
       "4  16km SE of Primo Tapia, B.C., MX  "
      ]
     },
     "execution_count": 7,
     "metadata": {},
     "output_type": "execute_result"
    }
   ],
   "source": [
    "data.head()"
   ]
  },
  {
   "cell_type": "code",
   "execution_count": 9,
   "metadata": {},
   "outputs": [
    {
     "data": {
      "text/plain": [
       "'2019-12-31T23:59:40.580'"
      ]
     },
     "execution_count": 9,
     "metadata": {},
     "output_type": "execute_result"
    }
   ],
   "source": [
    "data['Time'].max()"
   ]
  },
  {
   "cell_type": "code",
   "execution_count": null,
   "metadata": {},
   "outputs": [],
   "source": []
  }
 ],
 "metadata": {
  "kernelspec": {
   "display_name": "Python 3",
   "language": "python",
   "name": "python3"
  },
  "language_info": {
   "codemirror_mode": {
    "name": "ipython",
    "version": 3
   },
   "file_extension": ".py",
   "mimetype": "text/x-python",
   "name": "python",
   "nbconvert_exporter": "python",
   "pygments_lexer": "ipython3",
   "version": "3.7.4"
  }
 },
 "nbformat": 4,
 "nbformat_minor": 2
}
