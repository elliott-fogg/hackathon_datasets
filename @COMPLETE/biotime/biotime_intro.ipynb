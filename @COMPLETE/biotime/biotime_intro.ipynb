{
 "cells": [
  {
   "cell_type": "markdown",
   "metadata": {},
   "source": [
    "# BioTIME\n",
    "\n",
    "The BioTIME database is an aggregation of Abundance and Biomass Time Series of different species from over 350 studies across many locations and multiple centuries.\n",
    "\n",
    "NOTES: Because the data was collected from multiple independant studies, the data from some studies will not necessarily match up with data from other studies. For example, some rows do not have an entry in the 'SPECIES' column. This may be because the original authors have encoded the names of their species, merging the Genus and Species together into an abbreviated codename, and other times it may be because the original author has given the common name for the species they have studied, and this common name may represent multiple different species in different parts of the world. Regardless, these labels should be self-consistent within studies, and this should be sufficient to compare between studies."
   ]
  },
  {
   "cell_type": "code",
   "execution_count": 1,
   "metadata": {
    "ExecuteTime": {
     "end_time": "2021-10-07T15:32:04.680239Z",
     "start_time": "2021-10-07T15:31:50.636453Z"
    }
   },
   "outputs": [],
   "source": [
    "import pandas as pd"
   ]
  },
  {
   "cell_type": "code",
   "execution_count": 2,
   "metadata": {
    "ExecuteTime": {
     "end_time": "2021-10-07T15:32:20.935196Z",
     "start_time": "2021-10-07T15:32:04.683247Z"
    }
   },
   "outputs": [
    {
     "name": "stderr",
     "output_type": "stream",
     "text": [
      "C:\\Users\\ecf3\\Documents\\Anaconda\\lib\\site-packages\\IPython\\core\\interactiveshell.py:3049: DtypeWarning: Columns (6) have mixed types. Specify dtype option on import or set low_memory=False.\n",
      "  interactivity=interactivity, compiler=compiler, result=result)\n"
     ]
    }
   ],
   "source": [
    "data = pd.read_csv(\"data/BioTIMEQuery02_04_2018.csv\")"
   ]
  },
  {
   "cell_type": "code",
   "execution_count": 3,
   "metadata": {
    "ExecuteTime": {
     "end_time": "2021-10-07T15:32:21.012200Z",
     "start_time": "2021-10-07T15:32:20.939212Z"
    }
   },
   "outputs": [
    {
     "data": {
      "text/html": [
       "<div>\n",
       "<style scoped>\n",
       "    .dataframe tbody tr th:only-of-type {\n",
       "        vertical-align: middle;\n",
       "    }\n",
       "\n",
       "    .dataframe tbody tr th {\n",
       "        vertical-align: top;\n",
       "    }\n",
       "\n",
       "    .dataframe thead th {\n",
       "        text-align: right;\n",
       "    }\n",
       "</style>\n",
       "<table border=\"1\" class=\"dataframe\">\n",
       "  <thead>\n",
       "    <tr style=\"text-align: right;\">\n",
       "      <th></th>\n",
       "      <th>Unnamed: 0</th>\n",
       "      <th>STUDY_ID</th>\n",
       "      <th>DAY</th>\n",
       "      <th>MONTH</th>\n",
       "      <th>YEAR</th>\n",
       "      <th>SAMPLE_DESC</th>\n",
       "      <th>PLOT</th>\n",
       "      <th>ID_SPECIES</th>\n",
       "      <th>LATITUDE</th>\n",
       "      <th>LONGITUDE</th>\n",
       "      <th>sum.allrawdata.ABUNDANCE</th>\n",
       "      <th>sum.allrawdata.BIOMASS</th>\n",
       "      <th>GENUS</th>\n",
       "      <th>SPECIES</th>\n",
       "      <th>GENUS_SPECIES</th>\n",
       "    </tr>\n",
       "  </thead>\n",
       "  <tbody>\n",
       "    <tr>\n",
       "      <th>0</th>\n",
       "      <td>1</td>\n",
       "      <td>10</td>\n",
       "      <td>NaN</td>\n",
       "      <td>NaN</td>\n",
       "      <td>1992</td>\n",
       "      <td>47.400000_-95.120000_1_Treefall_0_Medium</td>\n",
       "      <td>1</td>\n",
       "      <td>23</td>\n",
       "      <td>47.4</td>\n",
       "      <td>-95.12</td>\n",
       "      <td>1.0</td>\n",
       "      <td>0.0</td>\n",
       "      <td>Acer</td>\n",
       "      <td>saccharum</td>\n",
       "      <td>Acer saccharum</td>\n",
       "    </tr>\n",
       "    <tr>\n",
       "      <th>1</th>\n",
       "      <td>2</td>\n",
       "      <td>10</td>\n",
       "      <td>NaN</td>\n",
       "      <td>NaN</td>\n",
       "      <td>1984</td>\n",
       "      <td>47.400000_-95.120000_9_Treefall_Base_Small</td>\n",
       "      <td>9</td>\n",
       "      <td>23</td>\n",
       "      <td>47.4</td>\n",
       "      <td>-95.12</td>\n",
       "      <td>2.0</td>\n",
       "      <td>0.0</td>\n",
       "      <td>Acer</td>\n",
       "      <td>saccharum</td>\n",
       "      <td>Acer saccharum</td>\n",
       "    </tr>\n",
       "    <tr>\n",
       "      <th>2</th>\n",
       "      <td>3</td>\n",
       "      <td>10</td>\n",
       "      <td>NaN</td>\n",
       "      <td>NaN</td>\n",
       "      <td>1992</td>\n",
       "      <td>47.400000_-95.120000_1_Treefall_0_Small</td>\n",
       "      <td>1</td>\n",
       "      <td>1959</td>\n",
       "      <td>47.4</td>\n",
       "      <td>-95.12</td>\n",
       "      <td>2.0</td>\n",
       "      <td>0.0</td>\n",
       "      <td>Prunus</td>\n",
       "      <td>virginiana</td>\n",
       "      <td>Prunus virginiana</td>\n",
       "    </tr>\n",
       "    <tr>\n",
       "      <th>3</th>\n",
       "      <td>4</td>\n",
       "      <td>10</td>\n",
       "      <td>NaN</td>\n",
       "      <td>NaN</td>\n",
       "      <td>1992</td>\n",
       "      <td>47.400000_-95.120000_1_Treefall_0_Medium</td>\n",
       "      <td>1</td>\n",
       "      <td>22</td>\n",
       "      <td>47.4</td>\n",
       "      <td>-95.12</td>\n",
       "      <td>2.0</td>\n",
       "      <td>0.0</td>\n",
       "      <td>Acer</td>\n",
       "      <td>rubrum</td>\n",
       "      <td>Acer rubrum</td>\n",
       "    </tr>\n",
       "    <tr>\n",
       "      <th>4</th>\n",
       "      <td>5</td>\n",
       "      <td>10</td>\n",
       "      <td>NaN</td>\n",
       "      <td>NaN</td>\n",
       "      <td>1992</td>\n",
       "      <td>47.400000_-95.120000_1_Treefall_0_Medium</td>\n",
       "      <td>1</td>\n",
       "      <td>1959</td>\n",
       "      <td>47.4</td>\n",
       "      <td>-95.12</td>\n",
       "      <td>1.0</td>\n",
       "      <td>0.0</td>\n",
       "      <td>Prunus</td>\n",
       "      <td>virginiana</td>\n",
       "      <td>Prunus virginiana</td>\n",
       "    </tr>\n",
       "  </tbody>\n",
       "</table>\n",
       "</div>"
      ],
      "text/plain": [
       "   Unnamed: 0  STUDY_ID  DAY  MONTH  YEAR  \\\n",
       "0           1        10  NaN    NaN  1992   \n",
       "1           2        10  NaN    NaN  1984   \n",
       "2           3        10  NaN    NaN  1992   \n",
       "3           4        10  NaN    NaN  1992   \n",
       "4           5        10  NaN    NaN  1992   \n",
       "\n",
       "                                  SAMPLE_DESC PLOT  ID_SPECIES  LATITUDE  \\\n",
       "0    47.400000_-95.120000_1_Treefall_0_Medium    1          23      47.4   \n",
       "1  47.400000_-95.120000_9_Treefall_Base_Small    9          23      47.4   \n",
       "2     47.400000_-95.120000_1_Treefall_0_Small    1        1959      47.4   \n",
       "3    47.400000_-95.120000_1_Treefall_0_Medium    1          22      47.4   \n",
       "4    47.400000_-95.120000_1_Treefall_0_Medium    1        1959      47.4   \n",
       "\n",
       "   LONGITUDE  sum.allrawdata.ABUNDANCE  sum.allrawdata.BIOMASS   GENUS  \\\n",
       "0     -95.12                       1.0                     0.0    Acer   \n",
       "1     -95.12                       2.0                     0.0    Acer   \n",
       "2     -95.12                       2.0                     0.0  Prunus   \n",
       "3     -95.12                       2.0                     0.0    Acer   \n",
       "4     -95.12                       1.0                     0.0  Prunus   \n",
       "\n",
       "      SPECIES      GENUS_SPECIES  \n",
       "0   saccharum     Acer saccharum  \n",
       "1   saccharum     Acer saccharum  \n",
       "2  virginiana  Prunus virginiana  \n",
       "3      rubrum        Acer rubrum  \n",
       "4  virginiana  Prunus virginiana  "
      ]
     },
     "execution_count": 3,
     "metadata": {},
     "output_type": "execute_result"
    }
   ],
   "source": [
    "data.head()"
   ]
  },
  {
   "cell_type": "code",
   "execution_count": null,
   "metadata": {},
   "outputs": [],
   "source": []
  }
 ],
 "metadata": {
  "kernelspec": {
   "display_name": "Python 3",
   "language": "python",
   "name": "python3"
  },
  "language_info": {
   "codemirror_mode": {
    "name": "ipython",
    "version": 3
   },
   "file_extension": ".py",
   "mimetype": "text/x-python",
   "name": "python",
   "nbconvert_exporter": "python",
   "pygments_lexer": "ipython3",
   "version": "3.7.3"
  },
  "toc": {
   "base_numbering": 1,
   "nav_menu": {},
   "number_sections": true,
   "sideBar": true,
   "skip_h1_title": true,
   "title_cell": "Table of Contents",
   "title_sidebar": "Contents",
   "toc_cell": false,
   "toc_position": {},
   "toc_section_display": true,
   "toc_window_display": true
  }
 },
 "nbformat": 4,
 "nbformat_minor": 2
}
