{
 "cells": [
  {
   "cell_type": "markdown",
   "metadata": {},
   "source": [
    "# BioTIME\n",
    "\n",
    "The BioTIME database is an aggregation of Abundance and Biomass Time Series of different species from over 350 studies across many locations and multiple centuries.\n",
    "\n",
    "NOTES: Because the data was collected from multiple independant studies, the data from some studies will not necessarily match up with data from other studies. For example, some rows do not have an entry in the 'SPECIES' column. This may be because the original authors have encoded the names of their species, merging the Genus and Species together into an abbreviated codename, and other times it may be because the original author has given the common name for the species they have studied, and this common name may represent multiple different species in different parts of the world. Regardless, these labels should be self-consistent within studies, and this should be sufficient to compare between studies."
   ]
  },
  {
   "cell_type": "code",
   "execution_count": null,
   "metadata": {},
   "outputs": [],
   "source": [
    "import pandas as pd"
   ]
  },
  {
   "cell_type": "code",
   "execution_count": null,
   "metadata": {},
   "outputs": [],
   "source": [
    "data = pd.read_csv(\"data/BioTIMEQuery02_04_2018.csv\")"
   ]
  },
  {
   "cell_type": "code",
   "execution_count": null,
   "metadata": {},
   "outputs": [],
   "source": [
    "data.head()"
   ]
  }
 ],
 "metadata": {
  "kernelspec": {
   "display_name": "Python 3",
   "language": "python",
   "name": "python3"
  },
  "language_info": {
   "codemirror_mode": {
    "name": "ipython",
    "version": 3
   },
   "file_extension": ".py",
   "mimetype": "text/x-python",
   "name": "python",
   "nbconvert_exporter": "python",
   "pygments_lexer": "ipython3",
   "version": "3.7.4"
  }
 },
 "nbformat": 4,
 "nbformat_minor": 2
}
