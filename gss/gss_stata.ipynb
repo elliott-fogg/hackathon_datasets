{
 "cells": [
  {
   "cell_type": "code",
   "execution_count": 21,
   "metadata": {},
   "outputs": [],
   "source": [
    "import pandas as pd\n",
    "import matplotlib.pyplot as plt"
   ]
  },
  {
   "cell_type": "code",
   "execution_count": 27,
   "metadata": {},
   "outputs": [],
   "source": [
    "data = pd.read_stata(\"stata/GSS7218_R2.DTA\", convert_categoricals=False) #"
   ]
  },
  {
   "cell_type": "code",
   "execution_count": 36,
   "metadata": {},
   "outputs": [
    {
     "data": {
      "text/plain": [
       "Index(['year', 'id', 'wrkstat', 'hrs1', 'hrs2', 'evwork', 'occ', 'prestige',\n",
       "       'wrkslf', 'wrkgovt',\n",
       "       ...\n",
       "       'neisafe', 'rlooks', 'rgroomed', 'rweight', 'rhlthend', 'wtss',\n",
       "       'wtssnr', 'wtssall', 'vstrat', 'vpsu'],\n",
       "      dtype='object', length=6109)"
      ]
     },
     "execution_count": 36,
     "metadata": {},
     "output_type": "execute_result"
    }
   ],
   "source": [
    "data.columns"
   ]
  },
  {
   "cell_type": "code",
   "execution_count": 26,
   "metadata": {},
   "outputs": [],
   "source": [
    "sr = pd.io.stata.StataReader(\"stata/GSS7218_R2.DTA\")\n",
    "vl = sr.value_labels()\n",
    "sr.close()"
   ]
  },
  {
   "cell_type": "code",
   "execution_count": 33,
   "metadata": {},
   "outputs": [
    {
     "data": {
      "text/plain": [
       "dict_keys(['LABA', 'HRS1', 'HRS2', 'LABB', 'LABC', 'LABD', 'WRKGOVT', 'COMMUTE', 'OCC80', 'LABE', 'INDUS07', 'OCCONET', 'FOUND', 'LABF', 'OCCINDV', 'OCCSTATU', 'OCCTAG', 'PRESTG10', 'V24_A', 'LABG', 'INDSTATU', 'INDTAG', 'MARITAL', 'MARTYPE', 'LABH', 'SPHRS1', 'SPHRS2', 'COWRKSTA', 'COWRKSLF', 'COEVWORK', 'LABI', 'SPOCC80', 'SPOCC10', 'SPOCCIND', 'SPOCCSTA', 'SPOCCTAG', 'SPPRES10', 'V54_A', 'SPIND10', 'SPINDSTA', 'SPINDTAG', 'PAOCC16', 'PAIND16', 'PAOCC80', 'PAOCC10', 'PAOCCIND', 'PAOCCSTA', 'PAOCCTAG', 'PAPRES10', 'V72_A', 'PAIND10', 'PAINDSTA', 'PAINDTAG', 'MAOCC80', 'MAOCC10', 'MAOCCIND', 'MAOCCSTA', 'MAOCCTAG', 'MAPRES10', 'V85_A', 'MAIND10', 'MAINDSTA', 'MAINDTAG', 'LABJ', 'CHILDS', 'AGE', 'LABK', 'COEDUC', 'CODEG', 'LABL', 'MAJOR1', 'MAJOR2', 'DIPGED', 'LABM', 'COSECTOR', 'LABN', 'LABO', 'LABP', 'LABQ', 'LABR', 'LABS', 'VOEDNME1', 'VOEDNME2', 'COBARATE', 'COGRADTO', 'COEFTOTL', 'SEX', 'RACE', 'RES16', 'REG16', 'MOBILE16', 'FAMILY16', 'FAMDIF16', 'INCOM16', 'PARBORN', 'GRANBORN', 'HOMPOP', 'LABT', 'UNRELAT', 'EARNRS', 'LABU', 'INCOME72', 'LABV', 'LABW', 'LABX', 'LABY', 'LABZ', 'LABAA', 'INCOME16', 'RINCOM16', 'REGION', 'XNORCSIZ', 'SRCBELT', 'SIZE', 'LABAB', 'PARTYID', 'LABAC', 'LABAD', 'LABAE', 'PRES76', 'IF76WHO', 'PRES80', 'IF80WHO', 'PRES84', 'IF84WHO', 'PRES88', 'IF88WHO', 'VOTE92', 'PRES92', 'IF92WHO', 'VOTE96', 'PRES96', 'IF96WHO', 'LABAF', 'PRES00', 'IF00WHO', 'PRES04', 'IF04WHO', 'VOTE08', 'PRES08', 'IF08WHO', 'VOTE12', 'PRES12', 'IF12WHO', 'VOTE16', 'PRES16', 'IF16WHO', 'POLVIEWS', 'POLVIEWY', 'POLVIEWX', 'LABAG', 'NATENRGY', 'LABAH', 'GOVCARE', 'LABAI', 'TAX', 'LABAJ', 'LABAK', 'LABAL', 'COLCOM', 'SPKMSLM', 'COLMSLM', 'LIBMSLM', 'CAPPUN2', 'LABAM', 'LABAN', 'LABAO', 'LABAP', 'COURTS', 'COURTSY', 'LABAQ', 'LABAR', 'RELIG', 'DENOM', 'OTHER', 'LABAS', 'JEW', 'LABAT', 'LABAU', 'ATTEND', 'LABAV', 'RELITEN', 'RELITENA', 'LABAW', 'LIKEDIFF', 'MINDBODY', 'RESTACT', 'PALEFULL', 'PRAY', 'LABAX', 'NEARGOD', 'LABAY', 'MAPA', 'MASTERSP', 'JUDGELUV', 'FRNDKING', 'CRTRHEAL', 'RDEEMLIB', 'POPESPKS', 'RELIG16', 'LABAZ', 'OTH16', 'JEW16', 'SPREL', 'SPOTHER', 'SPJEW', 'SPREL16', 'SPDEN16', 'SPOTH16', 'SPJEW16', 'COREL', 'CODEN', 'COOTHER', 'COJEW', 'COFUND', 'TITHING', 'PRAYERY', 'PRAYERX', 'BIBLE', 'BIBLEY', 'WORLD1', 'WORLD2', 'WORLD3', 'WORLD4', 'WORLD5', 'WORLD6', 'WORLD7', 'LABBA', 'FEPRIEST', 'FECLERGY', 'RELGRADE', 'RACDIN', 'LABBB', 'RACOPEN', 'RACDIS', 'RACINTEG', 'RACOBJCT', 'RACSCHOL', 'LABBC', 'RACJOB', 'RACCHURH', 'COLOR', 'RACNAME', 'RACHISCH', 'RACMIX', 'RACNEIGH', 'RACTRUST', 'RACPARTY', 'LABBD', 'RACOPNOW', 'RACOPWIL', 'LABBE', 'LABBF', 'RACFIRM', 'LABBG', 'LABBH', 'AFFRMACT', 'WRKWAYUP', 'BLKSIMP', 'LABBI', 'LABBJ', 'LABBK', 'HAPCOHAB', 'HEALTH', 'LIFE', 'HELPFUL', 'FAIR', 'TRUST', 'TRUST1', 'LABBL', 'LABBM', 'LABBN', 'LABBO', 'LABBP', 'LABBQ', 'LABBR', 'YOUNGEN', 'LABBS', 'LABBT', 'AGED', 'AGEDPAR', 'AGEDCHLD', 'PARTFULL', 'LABBU', 'JOBLOSE', 'JOBFIND', 'SATJOB', 'SATJOBHV', 'RICHWORK', 'LABBV', 'LABBW', 'CLASS', 'CLASSY', 'RANK', 'SATFIN', 'FINALTER', 'FINRELA', 'INCNEED', 'MININC', 'LABBX', 'LABBY', 'LABBZ', 'UNION', 'UNION1', 'GETAHEAD', 'LABCA', 'KIDSSOL', 'LABCB', 'FEPRES', 'FEPOLY', 'LABCC', 'LABCD', 'CHLDIDEL', 'CHLDMORE', 'CHLDNUM', 'LABCE', 'PILL', 'TEENPILL', 'LABCF', 'SEXEDUC', 'LABCG', 'SPPAID', 'LABCH', 'HOMOCHNG', 'PORNLAW', 'SUINUM', 'SUINUM1', 'SUIREL1', 'SUINEG1', 'SUICLSE1', 'SUITIME1', 'SUIMTHS1', 'SUIYRS1', 'SUIREL2', 'SUINEG2', 'SUICLSE2', 'SUITIME2', 'SUIMTHS2', 'SUIYRS2', 'LABCI', 'LABCJ', 'LABCK', 'CONVICTD', 'LOCKEDUP', 'HUNT', 'HUNT1', 'NEWS', 'PHONE', 'COOP2', 'COOP', 'COMPREND', 'FORM', 'RANDOM', 'ABLEGAL', 'ERA', 'ERATELL', 'RACSUBGV', 'RACMAREL', 'RACCHNG', 'LABCL', 'LABCM', 'LABCN', 'UNEMP5', 'DEATH5', 'LABCO', 'LABCP', 'LABCQ', 'LABCR', 'LABCS', 'LABCT', 'PRIVACY', 'CIVIC', 'RUSHED', 'BORED', 'STRESSWK', 'POLLGOOD', 'POLLTRUE', 'LABCU', 'MILQUAL', 'MILPAY', 'LABCV', 'MILVOLOK', 'LABCW', 'LABCX', 'FEHLPMIL', 'LABCY', 'LABCZ', 'LABDA', 'LABDB', 'UPGRADE', 'JOBTRAIN', 'LABDC', 'RESDEFWK', 'LABDD', 'HELPPOOR', 'HELPNOT', 'HELPSICK', 'HELPBLK', 'EQCLOSE', 'LABDE', 'LABDF', 'LABDG', 'LABDH', 'LABDI', 'LABDJ', 'LABDK', 'LABDL', 'LABDM', 'LABDN', 'LABDO', 'TALKPOL', 'FRNDKNOW', 'CHURHGRP', 'MOSTACT', 'CAREGRP', 'LOCLIVED', 'LABDP', 'LOCINFLU', 'LOCCARE', 'INTPOL', 'SWAYVOTE', 'WORKPOL', 'LABDQ', 'LABDR', 'LOCVOTE', 'LABDS', 'BLKGAINS', 'FEGAINS', 'LABDT', 'SWITNUM', 'LABDU', 'MADEN', 'MAOTH', 'MAJEW', 'PARELIG', 'PADEN', 'PAOTH', 'PAJEW', 'CHURHSCH', 'SUNSCH16', 'TVRELIG', 'GOD', 'READWORD', 'LABDV', 'LABDW', 'MYFAITH', 'MADATGOD', 'LABDX', 'LABDY', 'LABDZ', 'LABEA', 'LABEB', 'LABEC', 'LABED', 'LABEE', 'LABEF', 'LABEG', 'NUMCONG', 'DENOMSCH', 'LABEH', 'LABEI', 'LABEJ', 'LABEK', 'LABEL', 'LABEM', 'LABEN', 'LABEO', 'LABEP', 'LABEQ', 'LABER', 'LABES', 'LABET', 'LABEU', 'RACWORK', 'DISCAFF', 'LABEV', 'DISCWHY6', 'GENEGETS', 'LABEW', 'ORGFIN', 'EVUNEMP', 'NUMUNEMP', 'TOTUNEMP', 'EMPYEARS', 'FNDJOB9', 'SAMEJOB', 'JOBYEARS', 'THISJOB7', 'NUMPROMO', 'IMPPROMO', 'FUTPROMO', 'LABEX', 'ADVANCES', 'JOBCNTRL', 'LABEY', 'YOUSUP', 'SPWKSUP', 'LABEZ', 'LABFA', 'LABFB', 'WRKWELL', 'WRKMUCH', 'CHNGEORG', 'JOBVSHME', 'UNVOTE', 'LABFC', 'LABFD', 'WHEREWRK', 'LABFE', 'STANDUP', 'LABFF', 'OPOUTCME', 'UNITED', 'OBTOHELP', 'LABFG', 'LABFH', 'LABFI', 'LABFJ', 'IMPTHNGS', 'LABFK', 'LABFL', 'LABFM', 'NEVERWK', 'LABFN', 'LABFO', 'SPFAM16', 'V1573_A', 'V1574_A', 'V1575_A', 'V1576_A', 'V1577_A', 'V1578_A', 'V1579_A', 'LABFP', 'SPSIBS', 'LABFQ', 'LABFR', 'LABFS', 'LABFT', 'KDOCC10', 'KDOCCIND', 'KDOCCSTA', 'KDOCCTAG', 'KDIND10', 'KDINDSTA', 'KDINDTAG', 'LABFU', 'SBOCC10', 'SBOCCIND', 'SBOCCSTA', 'SBOCCTAG', 'SBIND10', 'SBINDSTA', 'SBINDTAG', 'ETHID', 'LABFV', 'ETHID1', 'AMRANK', 'AMPROUD', 'MELTPOT', 'LABFW', 'LABFX', 'BILINGED', 'ENGTEACH', 'ENGBALLT', 'ENGOFFCL', 'LETIN', 'HSPASN10', 'LABFY', 'IMMFARE', 'LABFZ', 'UNDOCKID', 'LABGA', 'JOBAFF', 'OWNETH', 'LABGB', 'ETHHIST', 'LABGC', 'LABGD', 'LABGE', 'ECONPAST', 'LABGF', 'LABGG', 'ECONFUTR', 'LABGH', 'LABGI', 'HAPROM', 'LABGJ', 'FEJOBAFF', 'TRADMOD', 'SHARESEP', 'EMOTEOTH', 'LABGK', 'FAIRHWRK', 'EARNMORE', 'LABGL', 'LABGM', 'FLEXTIME', 'PARLEAVE', 'LABGN', 'LABGO', 'FEMINIST', 'LABGP', 'YOURSELF', 'LABGQ', 'ANGRYEV', 'WHNANGRY', 'MADAT23', 'HOWANGRY', 'ANGRLAST', 'THNKANGR', 'LABGR', 'REACTOK', 'LABGS', 'LIKEOTH', 'AMIMP', 'NOTAM', 'LABGT', 'RELPRIVT', 'LABGU', 'NEWUSED', 'TYPDEALR', 'LABGV', 'RELDEALR', 'LABGW', 'LEARNHME', 'NEWOWNED', 'LABGX', 'WHOSOLD', 'LABGY', 'RELLAW', 'RELFIXER', 'WHOLOAND', 'LABGZ', 'LABHA', 'LOANEDTO', 'TABLPRCE', 'LABHB', 'SELLORGN', 'ADOPTION', 'SELLBABY', 'LABHC', 'TAGSALES', 'HAGGLE', 'HRFAMBIZ', 'FAMBIZ', 'ECONSYS', 'FAMFINAN', 'LABHD', 'LAYOFFS', 'LABHE', 'LABHF', 'SERIOUSP', 'LABHG', 'LABHH', 'LABHI', 'LABHJ', 'LABHK', 'DOFIRST', 'MEDCARE1', 'MEDCARE2', 'SPMENTL', 'GOVMENTL', 'LABHL', 'LABHM', 'RELMHSP1', 'RELMHSP2', 'RELMHSP3', 'RELMHSP4', 'RELMHSP5', 'RELMHSP6', 'LABHN', 'LABHO', 'LABHP', 'LABHQ', 'LABHR', 'LABHS', 'LABHT', 'LABHU', 'LABHV', 'LABHW', 'LABHX', 'LABHY', 'LABHZ', 'LABIA', 'LABIB', 'LABIC', 'LABID', 'LABIE', 'LABIF', 'LOTR1', 'LOTR2', 'LOTR3', 'LOTR4', 'LOTR5', 'LOTR6', 'HOPE1', 'HOPE2', 'HOPE3', 'HOPE4', 'HOPE5', 'HOPE6', 'RELPERSN', 'SPRTPRSN', 'NATARTS', 'IRRELART', 'IRRELOFF', 'AIMOFART', 'PRFMNCE', 'ARTEXBT', 'PRFMMUS', 'PRFMDAN', 'PRFMTHE', 'PRFMATT', 'PRFMATT1', 'PRFMATT2', 'PRFMATT3', 'PRFMATT4', 'PRFMATT5', 'PRFMFREE', 'PRFMWHY1', 'PRFMWHY2', 'PRFMWHY3', 'PRFMWHY4', 'PRFMWHY5', 'PRFMWHY6', 'PRFMWHY7', 'PRFMWHY8', 'PRFMWHY9', 'PRFMWHY0', 'ARTATT', 'ARTATT1', 'ARTATT2', 'ARTATT3', 'ARTATT4', 'ARTATT5', 'ARTFREE', 'ARTWHY1', 'ARTWHY2', 'ARTWHY3', 'ARTWHY4', 'ARTWHY5', 'ARTWHY6', 'ARTWHY7', 'ARTWHY8', 'ARTWHY9', 'NOGO', 'NOGO1', 'PRFMCOST', 'PRFMINT', 'PRFMTRVL', 'PRFMGST', 'PRFMTIME', 'PRFMLOC', 'PRFMOTHR', 'V2367_A', 'ARTCOST', 'ARTINT', 'ARTTRVL', 'ARTGST', 'ARTTIME', 'ARTLOC', 'ARTOTHR', 'PRFMMOST', 'ARTMOSTO', 'TRAINSCH', 'TYPEORG', 'PARTORG', 'ORGSIZE', 'GENDERWK', 'OTJTRAIN', 'FORMLFIN', 'FORMLDYS', 'FORMLHRS', 'DOINGFIN', 'DOINGDYS', 'WOJOBYRS', 'NUMEMP', 'HOWPAID', 'HOURLY', 'LABIG', 'MONTHLY', 'LABIH', 'TRUSTING', 'LABII', 'LABIJ', 'LABIK', 'HLTHINSR', 'LABIL', 'SWITHLTH', 'MNTLDIF', 'LABIM', 'LABIN', 'LABIO', 'LABIP', 'LABIQ', 'LABIR', 'LABIS', 'SOCSECFX', 'SOCSECNU', 'TERMINAL', 'LABIT', 'LABIU', 'TERMVIG', 'LABIV', 'LABIW', 'LABIX', 'LABIY', 'OTHLANG1', 'OTHLANG2', 'OTHBEST', 'SPKLANG', 'LABIZ', 'GETLANG', 'LANGWRK', 'LABJA', 'BETRLANG', 'SPKLANGW', 'LABJB', 'LABJC', 'ETHCHNG', 'HISPWORK', 'LABJD', 'LABJE', 'HSWHT', 'HSETH', 'WEBMOB', 'LABJF', 'EMAILLNK', 'LABJG', 'POLAGREE', 'LABJH', 'LABJI', 'LABJJ', 'LABJK', 'SRCHENG2', 'LABJL', 'LABJM', 'NUMCNTCT', 'LABJN', 'NUMHOME', 'PAYWWW', 'WWWLINE1', 'WWWLINE2', 'MOSTLOC', 'INTUSE', 'LABJO', 'INTMBILE', 'INTRECNT', 'TWITTER', 'FACEBOOK', 'INSTAGRM', 'LINKEDIN', 'SNAPCHAT', 'TUMBLR', 'WHATSAPP', 'GOOGLESN', 'PINTERST', 'FLICKR', 'VINE', 'CLSSMTES', 'SNSMOTH1', 'SNSMOT2A', 'SNSMOT2B', 'SNSMOT2C', 'SNSMNEW', 'SNSMFRST', 'INTWKDYM', 'INTWKDYH', 'INTWKENM', 'INTWKENH', 'LABJP', 'JOBINFO', 'LABJQ', 'EMAILYR', 'WEBYR', 'WEBABLE', 'PROCESSR', 'BROWSER3', 'LABJR', 'LABJS', 'LABJT', 'HUCLEAN', 'HOMEBAND', 'LABJU', 'LABJV', 'LABJW', 'LABJX', 'SATDEMOC', 'LABJY', 'FREEPRSS', 'LABJZ', 'CNTRLIFE', 'LABKA', 'PAIN', 'LABKB', 'LABKC', 'LABKD', 'LABKE', 'ETHIMP', 'LABKF', 'LABKG', 'DOCVIG', 'LABKH', 'FININC1', 'FININC2', 'FININC3', 'FININC4', 'LABKI', 'LABKJ', 'DOCCOSTS', 'PAIDHOW', 'USUALHRS', 'MOSTHRS', 'LEASTHRS', 'SETHRS', 'ADVSCHED', 'WRKTYPE', 'YEARSJOB', 'WAYPAID', 'WRKSCHED', 'LABKK', 'LABKL', 'WRKHOME', 'WHYWKHME', 'FAMWKOFF', 'LABKM', 'PARTTEAM', 'LABKN', 'MANVSEMP', 'LABKO', 'FAIREARN', 'JOBFIND1', 'TRYNEWJB', 'USEDUP', 'HURTATWK', 'SPVTRFAI', 'STRREDPG', 'PHYEFFRT', 'SLPPRBLM', 'SATJOB1', 'KNOWSCHD', 'USETECH', 'STRESS12', 'HYPERTEN', 'ARTHRTIS', 'DIABETES', 'DEPRESS', 'WEIGHT', 'HEIGHT', 'NTWKHARD', 'MISSWORK', 'LABKP', 'CESD1', 'CESD2', 'CESD3', 'CESD4', 'CESD5', 'LABKQ', 'LABKR', 'PHYSACTS', 'EMOPROBS', 'FATIGUE', 'RATEPAIN', 'LABKS', 'ABMORAL', 'ABSTATE1', 'ABSTATE2', 'LABKT', 'LABKU', 'ABINSPAY', 'LABKV', 'NUMPETS', 'WHYNOPET', 'PETB4', 'LABKW', 'LABKX', 'LABKY', 'LABKZ', 'WORKFOR', 'WORKFOR1', 'OWNSTOCK', 'LABLA', 'EXTR2017', 'LABLB', 'SEECOWRK', 'COWRKHRD', 'LABLC', 'TALKSUP', 'LASTWKMO', 'LABLD', 'LABLE', 'LABLF', 'VOLMONTH', 'VALGIVEN', 'LABLG', 'CHLDPRB', 'LABLH', 'CHLDHLP', 'LABLI', 'LABLJ', 'LABLK', 'LABLL', 'LABLM', 'ADHDKNOW', 'ADHDKNW', 'MNTLREL', 'SOLVEOWN', 'LABLN', 'LABLO', 'CANINF14', 'LABLP', 'LABLQ', 'LABLR', 'NUMEMPS', 'WRKSLFFA', 'IGNORWK', 'RUMORWK', 'JOKESWK', 'EHARASWK', 'RUDEWK', 'LIEDCWKR', 'DENYRAIS', 'WKBHVRS', 'WKRSPNS', 'NATBORN', 'LABLS', 'RUNDRSTD', 'ROBJECT', 'LABLT', 'LABLU', 'OWNDOING', 'GENEEXPS', 'LABLV', 'INTRWGHT', 'LABLW', 'HGUNLAW', 'HGUNCRIM', 'CRIMUP', 'CRIMDOWN', 'NUMRELEX', 'LABLX', 'NUMRBORN', 'ENTITY', 'LABLY', 'LABLZ', 'GODCLOSE', 'LABMA', 'LABMB', 'DRINKMAX', 'LABMC', 'LABMD', 'LABME', 'NEWSFROM', 'SCIFROM', 'SEEKSCI', 'LABMF', 'BETTRLFE', 'ASTROSCI', 'SCIBNFTS', 'LABMG', 'SCISTUDY', 'SCITEXT', 'EXPDESGN', 'EXPTEXT', 'LABMH', 'LABMI', 'BIGBANG1', 'BIGBANG2', 'EVOLVED1', 'EVOLVED2', 'EARTHSUN', 'SOLARREV', 'TOMATOES', 'COLDEG1', 'MAJORCOL', 'HSMATH', 'LABMJ', 'LABMK', 'LABML', 'LABMM', 'LABMN', 'SCRESRCH', 'EATGM', 'LABMO', 'LABMP', 'LABMQ', 'LABMR', 'ICECAPS', 'COMORSCI', 'LABMS', 'PENGUINS', 'CAREMOST', 'NANOTECH', 'NANOWILL', 'NANOBEN', 'NANOHARM', 'SCIMODE', 'INTINTL', 'INTFARM', 'INTEDUC', 'INTSCI', 'INTECON', 'INTTECH', 'INTMED', 'INTSPACE', 'INTENVIR', 'INTMIL', 'SCIINTRO', 'LABMT', 'VISZOO', 'SCIMATH', 'ANSCITST', 'MABOYGRL', 'H2OLIFE', 'ANHEAT', 'LFTPLANE', 'LABMU', 'GOLDFISH', 'SALTH2O', 'EROSION', 'GENES', 'GILLS', 'UPBREATH', 'DAYNIGHT', 'WEIGHING', 'SEESAND', 'FISHEXP1', 'FISHEXP2', 'MOREMPG', 'POLNUKE', 'BIZNUKE', 'ENGNUKE', 'ENGAGRNK', 'ENHINFNK', 'POLINFNK', 'BIZINFNK', 'ENGBSTNK', 'POLBSTNK', 'BIZBSTNK', 'NUKEELEC', 'CLONING', 'SCINEWS1', 'SCINEWS2', 'SCINEWS3', 'LABMV', 'SCIINFGO', 'SCIENTDA', 'SCIENTSN', 'SCIENTR', 'SCIENTDO', 'SCIENTAL', 'SCIENTDN', 'SCIENTGO', 'SCIENTFU', 'SCIENTHE', 'SCIENTOD', 'SCIENTBE', 'SCIENTRE', 'SCIENTWK', 'SCIENTMO', 'SCIENTBR', 'ENGDA', 'ENGSON', 'ENGRESP', 'ENGDO', 'ENGLONE', 'ENGDGR', 'ENGGOOD', 'ENGFUN', 'ENGPROB', 'ENGODD', 'ENGBTR', 'ENGREL', 'ENGINT', 'ENGEARN', 'ENGBRNG', 'FARMING', 'JOURNLSM', 'FIREFTNG', 'MARRCOUN', 'MEDTREAT', 'ARCHITCT', 'LAWENFRC', 'ENGNRING', 'SLSMNSHP', 'CMPRGMNG', 'FINLCOUN', 'BUYVALUE', 'COMPWAGE', 'NUMORG', 'WEALTH', 'ESOP', 'DEFPENSN', 'TRDESTCK', 'BUYESOP', 'ESOPNOT', 'COMPANY', 'LABMW', 'LABMX', 'LABMY', 'LABMZ', 'NUMKNOWN', 'LABNA', 'LABNB', 'LABNC', 'LABND', 'GUNSDRUG', 'SEMIGUNS', 'GUNS911', 'RIFLES50', 'OTHGUNS', 'GUNSDRNK', 'SPNATDIS', 'LABNE', 'NEWSPRNT', 'GETAHEAY', 'VIGVERMY', 'MHPROBLM', 'LABNF', 'LABNG', 'LABNH', 'LABNI', 'LABNJ', 'MHCAUSE', 'MHDIAGNO', 'MHCLSOTH', 'MHEXPOTH', 'MHSEEPUB', 'MHFRIGHT', 'MHSYMP', 'STARTBIZ', 'OWNBIZ', 'NUMOWN', 'YEARBIZ', 'PAIDEMPS', 'BIZGROSS', 'BIZSHARE', 'OWNINC', 'WHYBIZ', 'NUMEMPS5', 'LABNK', 'SPJOTH16', 'MAJWOTH', 'PAJWOTH', 'BMITZVAH', 'SYNMEM', 'LABNL', 'DONE911A', 'EFF911A', 'DONE911B', 'EFF911B', 'DONE911C', 'EFF911C', 'DONE911D', 'EFF911D', 'DONE911E', 'EFF911E', 'DONE911F', 'EFF911F', 'DONE911G', 'EFF911G', 'DONE911H', 'EFF911H', 'DONE911I', 'EFF911I', 'DONE911J', 'EFF911J', 'DONE911K', 'EFF911K', 'DONE911L', 'EFF911L', 'DONE911M', 'EFF911M', 'DONE911N', 'EFF911N', 'DONEELSE', 'WORK3YRS', 'CUREMPYR', 'PAYCHNGE', 'PASTPAY', 'WHYLEAVE', 'LABNM', 'LOSEJB12', 'FINDNWJB', 'MORETRDE', 'NEWJOBS', 'LOSTJOBS', 'WKCOMPTR', 'WOCOMPTR', 'AUTONOJB', 'LABNN', 'INTLCOWK', 'LASTYRWK', 'LEAVEJB', 'INCLSTJB', 'LABNO', 'AGECMEUS', 'VISA', 'TYPEVISA', 'EMPHLTH', 'EMPHPLAN', 'OTHPLAN', 'SEXSEX18', 'TOLDSMSX', 'ATTRACTD', 'TOLDSXOR', 'RELGENDR', 'MARUNION', 'SEXUNION', 'EVKID', 'ADOPTKID', 'KIDLIVED', 'KIDRESP', 'KIDNOW1', 'KIDNOW2', 'TOLDWORK', 'EVLOSEJB', 'LOSEJOB5', 'EVNEGJOB', 'NEGJOB5', 'EVHARJB', 'HARJOB5', 'EVDWELL', 'DWELL5', 'EMPHLTH1', 'EMPHLTH2', 'HLTHCOVR', 'HLTHTYPE', 'SPPART', 'MYKIDS', 'OTHKIDS', 'HARSEXJB', 'HARSEXCL', 'OWNCLERG', 'NUMCLERG', 'OPENREL1', 'OPENREL2', 'OPENREL3', 'COUNSEL1', 'COUNSEL2', 'COUNSEL3', 'CLRGMAR1', 'CLRGMAR2', 'CLRGMAR3', 'CLRGSEX1', 'CLRGSEX2', 'CLRGSEX3', 'CLRGGEN1', 'CLRGGEN2', 'CLRGGEN3', 'ONGOREL1', 'ONGOREL2', 'ONGOREL3', 'HUSHREL1', 'HUSHREL2', 'HUSHREL3', 'TOLDEXP1', 'TOLDEXP2', 'TOLDEXP3', 'TOLDREL1', 'TOLDREL2', 'TOLDREL3', 'KNWCLSEX', 'CLSCLSEX', 'CLRGMODE', 'PRESPOP', 'VOLACTYR', 'VOLACTY2', 'POLEFY3', 'POLEFY11', 'POLEFY13', 'POLEFY15', 'POLEFY16', 'POLEFY17', 'RATETONE', 'LABNP', 'OBEYLAW', 'LABNQ', 'VERDICT', 'DATABANK', 'PROGTAX', 'LABNR', 'LABNS', 'LABNT', 'LABNU', 'COLOP', 'LABNV', 'LABNW', 'LABNX', 'LABNY', 'POLEFF3', 'LABNZ', 'LABOA', 'INCTAX', 'LABOB', 'INFLJOBS', 'LABOC', 'LABOD', 'LABOE', 'LABOF', 'UNIONSOK', 'POLINT', 'LABOG', 'LABOH', 'GRNLAWS', 'GENDEREQ', 'PRVDHLTH', 'PRVDOLD', 'PRVDSCHL', 'GVINFLU1', 'GVINFLU2', 'POLGBECO', 'DEMWORKS', 'TAXSPEND', 'TAXPAID', 'TAXBYLAW', 'BRLAWFL', 'BRNOTAX', 'LABOI', 'CUTDEBT', 'LABOJ', 'CCTV', 'EMONITOR', 'GOVTINFO', 'GIVINFUS', 'GIVINFFO', 'LABOK', 'LABOL', 'YOUINFLU', 'HLPINFLU', 'POLSFAIR', 'KNOWPOLS', 'LABOM', 'BRIBE', 'PEOCNTCT', 'LABON', 'LABOO', 'LABOP', 'LABOQ', 'POSSLQ', 'POSSLQY', 'MARCOHAB', 'LABOR', 'RELMOST', 'FRINUM', 'FRISEX', 'LABOS', 'LABOT', 'LABOU', 'LABOV', 'LABOW', 'MATIME1', 'SIBMOST', 'LABOX', 'LABOY', 'KIDMOST', 'PAVISIT1', 'LABOZ', 'MAVISIT1', 'LABPA', 'COWRKFRD', 'NEIFRD', 'BESTFRD', 'BSTVISIT', 'LABPB', 'SICK1A', 'SICK2A', 'LABPC', 'LABPD', 'LABPE', 'LEARNJOB', 'LABPF', 'LABPG', 'AIDKIDS', 'OTHFRD', 'DEMANDS', 'COMYEAR', 'LABPH', 'LABPI', 'LABPJ', 'LABPK', 'LABPL', 'LABPM', 'LABPN', 'FAMPRESS', 'UPSET', 'DINEFRDS', 'NEWFRDS', 'CONWKDAY', 'CONF2F', 'CNTCTPAR', 'CNTCTSIB', 'CNTCTKID', 'CNTCTFAM', 'CNTCTFRD', 'INTCNTCT', 'HEALTHIS', 'LABPO', 'MYGOALS', 'SATLIFE', 'ENDSMEET', 'NUMLANGS', 'LABPP', 'LABPQ', 'INCENTIV', 'LABPR', 'LABPS', 'TAXSHARE', 'LABPT', 'LABPU', 'OCCMOBIL', 'PAJOB', 'PASLF', 'LABPV', 'LABPW', 'EARNDES', 'LABPX', 'LABPY', 'JUSTPAY', 'LABPZ', 'LABQA', 'PASUP', 'BOOKS16', 'LABQB', 'LABQC', 'LABQD', 'NUMKIDS', 'LABQE', 'LABQF', 'LABQG', 'MAWORK14', 'EVDIV', 'SPEVDIV', 'LABQH', 'EARNSMOR', 'LABQI', 'LABQJ', 'LIVNOWED', 'TEENSEX1', 'SEXHAR', 'FAMBUDGT', 'LABQK', 'LABQL', 'LABQM', 'RHHWORK', 'HHWKFAIR', 'HHWKDIS', 'DECKIDS', 'SPBORN', 'LABQN', 'LABQO', 'HAPPY7', 'LABQP', 'FEWKNOKD', 'TWOINCS1', 'EARNSHH', 'SSFCHILD', 'SSMCHILD', 'KIDFINBU', 'KIDJOB', 'KIDSOCST', 'ELDERSUP', 'PAIDLV', 'PAIDLV1', 'PAIDLVPY', 'PAIDLVDV', 'FAMWKBST', 'FAMWKLST', 'CAREPROV', 'CARECOST', 'ELDHELP', 'ELDCOST', 'HHCLEAN1', 'WKNDACT', 'TIREDHM1', 'JOBVSFA1', 'TIREDWK1', 'FAMVSWK1', 'WKKIDSCL', 'WKYNGSCL', 'WKKIDSCS', 'WKYNGSCS', 'LABQQ', 'SPLIVE', 'LABQR', 'LABQS', 'HWDUTIES', 'LABQT', 'DK', 'LABQU', 'FLEXHRS1', 'WKPERSNL', 'FAMORJOB', 'JOBORFAM', 'DISCWK5', 'WHYDISC5', 'HARASS5', 'UNIONSBD', 'RCONTACT', 'WKATHOME', 'WKWKENDS', 'DECIDWRK', 'WRKSHIFT', 'CHNGEWRK', 'NOUNEMP5', 'NOUNEMP6', 'EXTRAWRK', 'EXTRAERN', 'JBENDYR', 'JBENDMO', 'EXJOBSAT', 'WORNOJOB', 'NEWSKILL', 'LOWPAY', 'TEMPWORK', 'MORTRAVL', 'MOVEINUS', 'MOVEAWAY', 'ECONSUP1', 'WORECSUP', 'LABQV', 'LABQW', 'EMPSELF', 'SMALLBIG', 'INDUSOTH', 'PRIVGOVT', 'WORKWEEK', 'WANTJOB', 'LABQX', 'IWRKHARD', 'HRSMONEY', 'LABQY', 'STRESS', 'PLANWRK', 'LABQZ', 'JOBSAT', 'SUPERVIS', 'SUPRVSJB', 'SUPNUM', 'MOONLITE', 'OTHHRS', 'LABRA', 'TOTALNUM', 'NUMEMPLY', 'TECHJOBS', 'TECHWORK', 'WANTJOB1', 'SETHOURS', 'PLACEWRK', 'WKTENURE', 'USESKILL', 'EDCSKILL', 'JOBSKILL', 'LABRB', 'ABSENT', 'LABRC', 'WORRYJOB', 'YRJOBEND', 'WHYJBEND', 'LABRD', 'LABRE', 'ASKHELP', 'ECONSUP', 'DAILYWRK', 'TIMEOFF', 'LABRF', 'NEWJOB', 'JBTRAIN', 'LABRG', 'OTHERWRK', 'SPWRKGVT', 'HAPUNHAP', 'LABRH', 'LABRI', 'LABRJ', 'LABRK', 'CHURHPOW', 'GODCHNGE', 'LABRL', 'BIBLE1', 'LABRM', 'LABRN', 'RELIGSP', 'DENSP', 'LABRO', 'LABRP', 'V5126_A', 'RELSCRPT', 'FEELREL', 'SCHLPRAY', 'LABRQ', 'BEFAIR', 'CANTRUST', 'LABRR', 'RELTRUTH', 'CARRIGHT', 'CARDO', 'GEOMOBIL', 'RELGRPEQ', 'RSPCTREL', 'RELMARRY', 'RELCAND', 'RELEXT1', 'RELEXT2', 'RELEXT3', 'REINCAR', 'NIRVANA', 'ANCESTRS', 'MYWAYGOD', 'RELGENEQ', 'RELOBJCT', 'VISTHOLY', 'RELSPRT', 'PAXHAPPY', 'MAKEFRND', 'COMFORT', 'RIGHTPEO', 'LABRS', 'LABRT', 'PERSCRFC', 'OBEYTHNK', 'LABRU', 'NATURGOD', 'LABRV', 'LABRW', 'LABRX', 'CARSTEN', 'PUBDECID', 'BUSDECID', 'USDOENUF', 'LABRY', 'NOMEAT', 'DRIVLESS', 'LABRZ', 'COMTYPE', 'GENEGEN', 'AMPROGRN', 'BIZPEOP', 'GOVTBIZ', 'PEOPGOVT', 'NUKEACC', 'LABSA', 'INFONEWS', 'LABSB', 'LABSC', 'TRUST5', 'FAIR5', 'GRNCON', 'LABSD', 'LABSE', 'FUTENRGY', 'LABSF', 'TEMPGEN1', 'BUSGRN', 'PEOPGRN', 'LABSG', 'LABSH', 'LABSI', 'ONENATN', 'LABSJ', 'LABSK', 'MELTPOT1', 'LETIN1', 'RES161', 'ABROAD', 'LABSL', 'LABSM', 'SPKLANG3', 'PARCIT', 'NAFTA1', 'NAFTA2', 'LABSN', 'CITWORLD', 'AMPROUD1', 'NAFTA2A', 'SHORTCOM', 'IMMCULT', 'IMMEDUC', 'LETIN1A', 'IMMASSIM', 'PATRIOT1', 'PATRIOT2', 'PATRIOT3', 'PATRIOT4', 'LABSO', 'LABSP', 'LABSQ', 'LABSR', 'LABSS', 'POLINT1', 'LABST', 'POWERUN', 'GOVNGOS', 'UNRGHTS', 'ELECVOTE', 'ELECFAIR', 'SERVEPEO', 'FIXMISTK', 'CORRUPTN', 'LABSU', 'DEMRGHTS', 'GVTRGHTS', 'POLINTER', 'POLNEWS', 'CRIMLOSE', 'NTCITVTE', 'NOTVOTE', 'HLTHALL', 'LEFTRGHT', 'CREATION', 'SCITESTY', 'LABSV', 'FORBDMAR', 'LABSW', 'ALLOWMAR', 'LABSX', 'LABSY', 'LABSZ', 'LABTA', 'LABTB', 'AIDSKNOW', 'LABTC', 'LABTD', 'LABTE', 'PARTNERS', 'FRNDSEX', 'ACQNTSEX', 'PIKUPSEX', 'PAIDSEX', 'OTHERSEX', 'LABTF', 'SEXFREQ', 'SEXFREQ1', 'LABTG', 'LABTH', 'PARTNRS5', 'EVSTRAY', 'CONDOM', 'RELATSEX', 'LABTI', 'HIVTEST', 'HIVTEST1', 'HIVTEST2', 'LABTJ', 'LABTK', 'SEXORNT', 'SEXBIRTH', 'SEXNOW', 'SIBORDER', 'LABTL', 'GENEGOOD', 'GENEGOO1', 'GENEGOO2', 'GENESELF', 'GENEABRT', 'MALEORNT', 'LABTM', 'LABTN', 'LABTO', 'LABTP', 'LABTQ', 'LABTR', 'LABTS', 'POVLINE', 'INCDEF', 'RPTCOWRK', 'SECPRVCY', 'LABTT', 'CHKFINAN', 'KNOMENTL', 'LABTU', 'LEAKINFO', 'SPYENEMY', 'SPYFREND', 'LABTV', 'LABTW', 'LABTX', 'LABTY', 'ETHNUM', 'LABTZ', 'SPETHNUM', 'RACESEE', 'RACEDBTF', 'RACESELF', 'HISPANIC', 'LABUA', 'LABUB', 'RACETHWH', 'RACETHHI', 'RACETHBL', 'RACETHAS', 'RACETHNA', 'RACETHOT', 'RACETHMN', 'USCITZN', 'FUCITZN', 'LABUC', 'VETYEARS', 'VETKIND', 'LABUD', 'LABUE', 'DWELLING', 'LABUF', 'DWELOWN', 'DWELOWN1', 'LABUG', 'WORDSUM', 'LABUH', 'RELIGID', 'LABUI', 'CATHID', 'LABUJ', 'OLD1', 'LABUK', 'LABUL', 'LABUM', 'OLD2', 'OLD3', 'OLD4', 'OLD5', 'OLD6', 'OLD7', 'OLD8', 'OLD9', 'OLD10', 'OLD11', 'OLD12', 'OLD13', 'OLD14', 'LABUN', 'HEFINFO', 'HHRACE', 'RESPNUM', 'HHTYPE', 'HHTYPE1', 'FAMGEN', 'RVISITOR', 'VISITORS', 'LABUO', 'LABUP', 'LABUQ', 'ISCO88', 'PAISCO88', 'MAISCO88', 'SPISCO88', 'ISCO08', 'PAISCO08', 'MAISCO08', 'SPISCO08', 'COISCO08', 'LABUR', 'LABUS', 'LABUT', 'COPRES10', 'V5982_A', 'USINTL', 'USUN', 'LABUU', 'LABUV', 'WKCONTCT', 'TALKSPVS', 'EFFCTSUP', 'BIRTHMO', 'ZODIAC', 'INTHISP', 'LABUW', 'LABUX', 'LABUY', 'SAQISSP', 'SAQSEX', 'SAQGENE', 'INTID', 'FEEUSED', 'FEELEVEL', 'LNGTHINV', 'INTAGE', 'EASYGET', 'INTETHN', 'MODE', 'INTSEX', 'INTYRS', 'CONSENT', 'ADMINCON', 'PILLOKY', 'POPESPKY', 'POLHITOY', 'LETDIE1Y', 'BALLOT', 'ISSP', 'SAMPLE', 'PHASE', 'SPANSELF', 'SPANINT', 'SPANENG', 'RES2006', 'LABUZ', 'RES2012', 'CSHUTYP0', 'LABVA', 'V6092_A', 'HLTHSTRT', 'HUADD', 'HUADDWHY', 'DWELLPRE', 'KIDSINHH', 'RESPOND', 'INCUSPOP', 'NEISAFE', 'RLOOKS', 'RGROOMED', 'RWEIGHT', 'RHLTHEND', 'LABVB', 'LABVC'])"
      ]
     },
     "execution_count": 33,
     "metadata": {},
     "output_type": "execute_result"
    }
   ],
   "source": [
    "vl.keys()"
   ]
  },
  {
   "cell_type": "code",
   "execution_count": 34,
   "metadata": {},
   "outputs": [],
   "source": [
    "sub_vl = [key for key in vl if \"LAB\" in key]"
   ]
  },
  {
   "cell_type": "code",
   "execution_count": 45,
   "metadata": {},
   "outputs": [],
   "source": [
    "sub_vl2 = [k for k in vl if k.lower() in data.columns]\n",
    "not_vl = [k for k in vl if not k.lower() in data.columns]\n",
    "col_not_vl = [c for c in data.columns if c.upper() not in vl]"
   ]
  },
  {
   "cell_type": "code",
   "execution_count": 47,
   "metadata": {},
   "outputs": [
    {
     "name": "stdout",
     "output_type": "stream",
     "text": [
      "1396\n",
      "2015\n",
      "4713\n",
      "['LABA', 'LABB', 'LABC', 'LABD', 'LABE', 'LABF', 'OCCSTATU', 'V24_A', 'LABG', 'INDSTATU', 'LABH', 'LABI', 'SPOCCIND', 'SPOCCSTA', 'V54_A', 'SPINDSTA', 'PAOCCIND', 'PAOCCSTA', 'V72_A', 'PAINDSTA', 'MAOCCIND', 'MAOCCSTA', 'V85_A', 'MAINDSTA', 'LABJ', 'LABK', 'LABL', 'LABM', 'LABN', 'LABO', 'LABP', 'LABQ', 'LABR', 'LABS', 'COGRADTO', 'COEFTOTL', 'LABT', 'LABU', 'LABV', 'LABW', 'LABX', 'LABY', 'LABZ', 'LABAA', 'LABAB', 'LABAC', 'LABAD', 'LABAE', 'LABAF', 'LABAG', 'LABAH', 'LABAI', 'LABAJ', 'LABAK', 'LABAL', 'LABAM', 'LABAN', 'LABAO', 'LABAP', 'LABAQ', 'LABAR', 'LABAS', 'LABAT', 'LABAU', 'LABAV', 'LABAW', 'LABAX', 'LABAY', 'LABAZ', 'LABBA', 'LABBB', 'LABBC', 'LABBD', 'LABBE', 'LABBF', 'LABBG', 'LABBH', 'LABBI', 'LABBJ', 'LABBK', 'LABBL', 'LABBM', 'LABBN', 'LABBO', 'LABBP', 'LABBQ', 'LABBR', 'LABBS', 'LABBT', 'LABBU', 'LABBV', 'LABBW', 'LABBX', 'LABBY', 'LABBZ', 'LABCA', 'LABCB', 'LABCC', 'LABCD', 'LABCE', 'LABCF', 'LABCG', 'LABCH', 'LABCI', 'LABCJ', 'LABCK', 'LABCL', 'LABCM', 'LABCN', 'LABCO', 'LABCP', 'LABCQ', 'LABCR', 'LABCS', 'LABCT', 'LABCU', 'LABCV', 'LABCW', 'LABCX', 'LABCY', 'LABCZ', 'LABDA', 'LABDB', 'LABDC', 'LABDD', 'LABDE', 'LABDF', 'LABDG', 'LABDH', 'LABDI', 'LABDJ', 'LABDK', 'LABDL', 'LABDM', 'LABDN', 'LABDO', 'LABDP', 'LABDQ', 'LABDR', 'LABDS', 'LABDT', 'LABDU', 'LABDV', 'LABDW', 'LABDX', 'LABDY', 'LABDZ', 'LABEA', 'LABEB', 'LABEC', 'LABED', 'LABEE', 'LABEF', 'LABEG', 'LABEH', 'LABEI', 'LABEJ', 'LABEK', 'LABEL', 'LABEM', 'LABEN', 'LABEO', 'LABEP', 'LABEQ', 'LABER', 'LABES', 'LABET', 'LABEU', 'LABEV', 'LABEW', 'LABEX', 'LABEY', 'LABEZ', 'LABFA', 'LABFB', 'LABFC', 'LABFD', 'LABFE', 'LABFF', 'LABFG', 'LABFH', 'LABFI', 'LABFJ', 'LABFK', 'LABFL', 'LABFM', 'LABFN', 'LABFO', 'V1573_A', 'V1574_A', 'V1575_A', 'V1576_A', 'V1577_A', 'V1578_A', 'V1579_A', 'LABFP', 'LABFQ', 'LABFR', 'LABFS', 'LABFT', 'KDOCCIND', 'KDOCCSTA', 'KDINDSTA', 'LABFU', 'SBOCCIND', 'SBOCCSTA', 'SBINDSTA', 'LABFV', 'LABFW', 'LABFX', 'LABFY', 'LABFZ', 'LABGA', 'LABGB', 'LABGC', 'LABGD', 'LABGE', 'LABGF', 'LABGG', 'LABGH', 'LABGI', 'LABGJ', 'LABGK', 'LABGL', 'LABGM', 'LABGN', 'LABGO', 'LABGP', 'LABGQ', 'LABGR', 'LABGS', 'LABGT', 'LABGU', 'LABGV', 'LABGW', 'LABGX', 'LABGY', 'LABGZ', 'LABHA', 'LABHB', 'LABHC', 'LABHD', 'LABHE', 'LABHF', 'LABHG', 'LABHH', 'LABHI', 'LABHJ', 'LABHK', 'LABHL', 'LABHM', 'LABHN', 'LABHO', 'LABHP', 'LABHQ', 'LABHR', 'LABHS', 'LABHT', 'LABHU', 'LABHV', 'LABHW', 'LABHX', 'LABHY', 'LABHZ', 'LABIA', 'LABIB', 'LABIC', 'LABID', 'LABIE', 'LABIF', 'V2367_A', 'PRFMMOST', 'ARTMOSTO', 'LABIG', 'LABIH', 'LABII', 'LABIJ', 'LABIK', 'LABIL', 'LABIM', 'LABIN', 'LABIO', 'LABIP', 'LABIQ', 'LABIR', 'LABIS', 'LABIT', 'LABIU', 'LABIV', 'LABIW', 'LABIX', 'LABIY', 'LABIZ', 'LABJA', 'LABJB', 'LABJC', 'LABJD', 'LABJE', 'LABJF', 'LABJG', 'LABJH', 'LABJI', 'LABJJ', 'LABJK', 'LABJL', 'LABJM', 'LABJN', 'LABJO', 'LABJP', 'LABJQ', 'LABJR', 'LABJS', 'LABJT', 'LABJU', 'LABJV', 'LABJW', 'LABJX', 'LABJY', 'LABJZ', 'LABKA', 'LABKB', 'LABKC', 'LABKD', 'LABKE', 'LABKF', 'LABKG', 'LABKH', 'LABKI', 'LABKJ', 'LABKK', 'LABKL', 'LABKM', 'LABKN', 'LABKO', 'SPVTRFAI', 'LABKP', 'LABKQ', 'LABKR', 'LABKS', 'LABKT', 'LABKU', 'LABKV', 'LABKW', 'LABKX', 'LABKY', 'LABKZ', 'LABLA', 'LABLB', 'LABLC', 'LABLD', 'LABLE', 'LABLF', 'LABLG', 'LABLH', 'LABLI', 'LABLJ', 'LABLK', 'LABLL', 'LABLM', 'LABLN', 'LABLO', 'LABLP', 'LABLQ', 'LABLR', 'WRKSLFFA', 'LABLS', 'LABLT', 'LABLU', 'LABLV', 'LABLW', 'LABLX', 'LABLY', 'LABLZ', 'LABMA', 'LABMB', 'LABMC', 'LABMD', 'LABME', 'LABMF', 'LABMG', 'LABMH', 'LABMI', 'LABMJ', 'LABMK', 'LABML', 'LABMM', 'LABMN', 'LABMO', 'LABMP', 'LABMQ', 'LABMR', 'LABMS', 'LABMT', 'LABMU', 'LABMV', 'LABMW', 'LABMX', 'LABMY', 'LABMZ', 'LABNA', 'LABNB', 'LABNC', 'LABND', 'LABNE', 'LABNF', 'LABNG', 'LABNH', 'LABNI', 'LABNJ', 'LABNK', 'LABNL', 'LABNM', 'LABNN', 'LABNO', 'LABNP', 'LABNQ', 'LABNR', 'LABNS', 'LABNT', 'LABNU', 'LABNV', 'LABNW', 'LABNX', 'LABNY', 'LABNZ', 'LABOA', 'LABOB', 'LABOC', 'LABOD', 'LABOE', 'LABOF', 'LABOG', 'LABOH', 'LABOI', 'LABOJ', 'GIVINFUS', 'GIVINFFO', 'LABOK', 'LABOL', 'LABOM', 'LABON', 'LABOO', 'LABOP', 'LABOQ', 'LABOR', 'LABOS', 'LABOT', 'LABOU', 'LABOV', 'LABOW', 'LABOX', 'LABOY', 'LABOZ', 'LABPA', 'LABPB', 'LABPC', 'LABPD', 'LABPE', 'LABPF', 'LABPG', 'LABPH', 'LABPI', 'LABPJ', 'LABPK', 'LABPL', 'LABPM', 'LABPN', 'HEALTHIS', 'LABPO', 'LABPP', 'LABPQ', 'LABPR', 'LABPS', 'LABPT', 'LABPU', 'LABPV', 'LABPW', 'LABPX', 'LABPY', 'LABPZ', 'LABQA', 'LABQB', 'LABQC', 'LABQD', 'LABQE', 'LABQF', 'LABQG', 'LABQH', 'LABQI', 'LABQJ', 'LABQK', 'LABQL', 'LABQM', 'LABQN', 'LABQO', 'LABQP', 'LABQQ', 'LABQR', 'LABQS', 'LABQT', 'LABQU', 'LABQV', 'LABQW', 'LABQX', 'LABQY', 'LABQZ', 'LABRA', 'LABRB', 'LABRC', 'LABRD', 'LABRE', 'LABRF', 'LABRG', 'LABRH', 'LABRI', 'LABRJ', 'LABRK', 'LABRL', 'LABRM', 'LABRN', 'LABRO', 'LABRP', 'V5126_A', 'LABRQ', 'LABRR', 'LABRS', 'LABRT', 'LABRU', 'LABRV', 'LABRW', 'LABRX', 'LABRY', 'LABRZ', 'LABSA', 'LABSB', 'LABSC', 'LABSD', 'LABSE', 'LABSF', 'LABSG', 'LABSH', 'LABSI', 'LABSJ', 'LABSK', 'LABSL', 'LABSM', 'LABSN', 'LABSO', 'LABSP', 'LABSQ', 'LABSR', 'LABSS', 'LABST', 'LABSU', 'LABSV', 'LABSW', 'LABSX', 'LABSY', 'LABSZ', 'LABTA', 'LABTB', 'LABTC', 'LABTD', 'LABTE', 'LABTF', 'LABTG', 'LABTH', 'LABTI', 'LABTJ', 'LABTK', 'LABTL', 'LABTM', 'LABTN', 'LABTO', 'LABTP', 'LABTQ', 'LABTR', 'LABTS', 'LABTT', 'LABTU', 'LABTV', 'LABTW', 'LABTX', 'LABTY', 'LABTZ', 'LABUA', 'LABUB', 'LABUC', 'LABUD', 'LABUE', 'LABUF', 'DWELOWN1', 'LABUG', 'LABUH', 'LABUI', 'LABUJ', 'LABUK', 'LABUL', 'LABUM', 'LABUN', 'LABUO', 'LABUP', 'LABUQ', 'LABUR', 'LABUS', 'LABUT', 'V5982_A', 'LABUU', 'LABUV', 'LABUW', 'LABUX', 'LABUY', 'ADMINCON', 'LABUZ', 'CSHUTYP0', 'LABVA', 'V6092_A', 'LABVB', 'LABVC']\n"
     ]
    }
   ],
   "source": [
    "print(len(sub_vl2))\n",
    "print(len(vl))\n",
    "print(len(col_not_vl))\n",
    "print(not_vl)"
   ]
  },
  {
   "cell_type": "code",
   "execution_count": 31,
   "metadata": {},
   "outputs": [
    {
     "data": {
      "text/html": [
       "<div>\n",
       "<style scoped>\n",
       "    .dataframe tbody tr th:only-of-type {\n",
       "        vertical-align: middle;\n",
       "    }\n",
       "\n",
       "    .dataframe tbody tr th {\n",
       "        vertical-align: top;\n",
       "    }\n",
       "\n",
       "    .dataframe thead th {\n",
       "        text-align: right;\n",
       "    }\n",
       "</style>\n",
       "<table border=\"1\" class=\"dataframe\">\n",
       "  <thead>\n",
       "    <tr style=\"text-align: right;\">\n",
       "      <th></th>\n",
       "      <th>year</th>\n",
       "      <th>id</th>\n",
       "      <th>wrkstat</th>\n",
       "      <th>hrs1</th>\n",
       "      <th>hrs2</th>\n",
       "      <th>evwork</th>\n",
       "      <th>occ</th>\n",
       "      <th>prestige</th>\n",
       "      <th>wrkslf</th>\n",
       "      <th>wrkgovt</th>\n",
       "      <th>...</th>\n",
       "      <th>neisafe</th>\n",
       "      <th>rlooks</th>\n",
       "      <th>rgroomed</th>\n",
       "      <th>rweight</th>\n",
       "      <th>rhlthend</th>\n",
       "      <th>wtss</th>\n",
       "      <th>wtssnr</th>\n",
       "      <th>wtssall</th>\n",
       "      <th>vstrat</th>\n",
       "      <th>vpsu</th>\n",
       "    </tr>\n",
       "  </thead>\n",
       "  <tbody>\n",
       "    <tr>\n",
       "      <td>0</td>\n",
       "      <td>1972</td>\n",
       "      <td>1</td>\n",
       "      <td>1.0</td>\n",
       "      <td>NaN</td>\n",
       "      <td>NaN</td>\n",
       "      <td>NaN</td>\n",
       "      <td>205.0</td>\n",
       "      <td>50.0</td>\n",
       "      <td>2.0</td>\n",
       "      <td>NaN</td>\n",
       "      <td>...</td>\n",
       "      <td>NaN</td>\n",
       "      <td>NaN</td>\n",
       "      <td>NaN</td>\n",
       "      <td>NaN</td>\n",
       "      <td>NaN</td>\n",
       "      <td>1.0</td>\n",
       "      <td>1.0</td>\n",
       "      <td>0.4446</td>\n",
       "      <td>NaN</td>\n",
       "      <td>NaN</td>\n",
       "    </tr>\n",
       "    <tr>\n",
       "      <td>1</td>\n",
       "      <td>1972</td>\n",
       "      <td>2</td>\n",
       "      <td>5.0</td>\n",
       "      <td>NaN</td>\n",
       "      <td>NaN</td>\n",
       "      <td>1.0</td>\n",
       "      <td>441.0</td>\n",
       "      <td>45.0</td>\n",
       "      <td>2.0</td>\n",
       "      <td>NaN</td>\n",
       "      <td>...</td>\n",
       "      <td>NaN</td>\n",
       "      <td>NaN</td>\n",
       "      <td>NaN</td>\n",
       "      <td>NaN</td>\n",
       "      <td>NaN</td>\n",
       "      <td>1.0</td>\n",
       "      <td>1.0</td>\n",
       "      <td>0.8893</td>\n",
       "      <td>NaN</td>\n",
       "      <td>NaN</td>\n",
       "    </tr>\n",
       "    <tr>\n",
       "      <td>2</td>\n",
       "      <td>1972</td>\n",
       "      <td>3</td>\n",
       "      <td>2.0</td>\n",
       "      <td>NaN</td>\n",
       "      <td>NaN</td>\n",
       "      <td>NaN</td>\n",
       "      <td>270.0</td>\n",
       "      <td>44.0</td>\n",
       "      <td>2.0</td>\n",
       "      <td>NaN</td>\n",
       "      <td>...</td>\n",
       "      <td>NaN</td>\n",
       "      <td>NaN</td>\n",
       "      <td>NaN</td>\n",
       "      <td>NaN</td>\n",
       "      <td>NaN</td>\n",
       "      <td>1.0</td>\n",
       "      <td>1.0</td>\n",
       "      <td>0.8893</td>\n",
       "      <td>NaN</td>\n",
       "      <td>NaN</td>\n",
       "    </tr>\n",
       "    <tr>\n",
       "      <td>3</td>\n",
       "      <td>1972</td>\n",
       "      <td>4</td>\n",
       "      <td>1.0</td>\n",
       "      <td>NaN</td>\n",
       "      <td>NaN</td>\n",
       "      <td>NaN</td>\n",
       "      <td>1.0</td>\n",
       "      <td>57.0</td>\n",
       "      <td>2.0</td>\n",
       "      <td>NaN</td>\n",
       "      <td>...</td>\n",
       "      <td>NaN</td>\n",
       "      <td>NaN</td>\n",
       "      <td>NaN</td>\n",
       "      <td>NaN</td>\n",
       "      <td>NaN</td>\n",
       "      <td>1.0</td>\n",
       "      <td>1.0</td>\n",
       "      <td>0.8893</td>\n",
       "      <td>NaN</td>\n",
       "      <td>NaN</td>\n",
       "    </tr>\n",
       "    <tr>\n",
       "      <td>4</td>\n",
       "      <td>1972</td>\n",
       "      <td>5</td>\n",
       "      <td>7.0</td>\n",
       "      <td>NaN</td>\n",
       "      <td>NaN</td>\n",
       "      <td>1.0</td>\n",
       "      <td>385.0</td>\n",
       "      <td>40.0</td>\n",
       "      <td>2.0</td>\n",
       "      <td>NaN</td>\n",
       "      <td>...</td>\n",
       "      <td>NaN</td>\n",
       "      <td>NaN</td>\n",
       "      <td>NaN</td>\n",
       "      <td>NaN</td>\n",
       "      <td>NaN</td>\n",
       "      <td>1.0</td>\n",
       "      <td>1.0</td>\n",
       "      <td>0.8893</td>\n",
       "      <td>NaN</td>\n",
       "      <td>NaN</td>\n",
       "    </tr>\n",
       "  </tbody>\n",
       "</table>\n",
       "<p>5 rows × 6109 columns</p>\n",
       "</div>"
      ],
      "text/plain": [
       "   year  id  wrkstat  hrs1  hrs2  evwork    occ  prestige  wrkslf  wrkgovt  \\\n",
       "0  1972   1      1.0   NaN   NaN     NaN  205.0      50.0     2.0      NaN   \n",
       "1  1972   2      5.0   NaN   NaN     1.0  441.0      45.0     2.0      NaN   \n",
       "2  1972   3      2.0   NaN   NaN     NaN  270.0      44.0     2.0      NaN   \n",
       "3  1972   4      1.0   NaN   NaN     NaN    1.0      57.0     2.0      NaN   \n",
       "4  1972   5      7.0   NaN   NaN     1.0  385.0      40.0     2.0      NaN   \n",
       "\n",
       "   ...  neisafe  rlooks  rgroomed  rweight  rhlthend  wtss  wtssnr  wtssall  \\\n",
       "0  ...      NaN     NaN       NaN      NaN       NaN   1.0     1.0   0.4446   \n",
       "1  ...      NaN     NaN       NaN      NaN       NaN   1.0     1.0   0.8893   \n",
       "2  ...      NaN     NaN       NaN      NaN       NaN   1.0     1.0   0.8893   \n",
       "3  ...      NaN     NaN       NaN      NaN       NaN   1.0     1.0   0.8893   \n",
       "4  ...      NaN     NaN       NaN      NaN       NaN   1.0     1.0   0.8893   \n",
       "\n",
       "   vstrat  vpsu  \n",
       "0     NaN   NaN  \n",
       "1     NaN   NaN  \n",
       "2     NaN   NaN  \n",
       "3     NaN   NaN  \n",
       "4     NaN   NaN  \n",
       "\n",
       "[5 rows x 6109 columns]"
      ]
     },
     "execution_count": 31,
     "metadata": {},
     "output_type": "execute_result"
    }
   ],
   "source": [
    "data.head()"
   ]
  },
  {
   "cell_type": "code",
   "execution_count": 4,
   "metadata": {},
   "outputs": [
    {
     "data": {
      "text/html": [
       "<div>\n",
       "<style scoped>\n",
       "    .dataframe tbody tr th:only-of-type {\n",
       "        vertical-align: middle;\n",
       "    }\n",
       "\n",
       "    .dataframe tbody tr th {\n",
       "        vertical-align: top;\n",
       "    }\n",
       "\n",
       "    .dataframe thead th {\n",
       "        text-align: right;\n",
       "    }\n",
       "</style>\n",
       "<table border=\"1\" class=\"dataframe\">\n",
       "  <thead>\n",
       "    <tr style=\"text-align: right;\">\n",
       "      <th></th>\n",
       "      <th>year</th>\n",
       "      <th>id</th>\n",
       "      <th>wrkstat</th>\n",
       "      <th>hrs1</th>\n",
       "      <th>hrs2</th>\n",
       "      <th>evwork</th>\n",
       "      <th>occ</th>\n",
       "      <th>prestige</th>\n",
       "      <th>wrkslf</th>\n",
       "      <th>wrkgovt</th>\n",
       "      <th>...</th>\n",
       "      <th>neisafe</th>\n",
       "      <th>rlooks</th>\n",
       "      <th>rgroomed</th>\n",
       "      <th>rweight</th>\n",
       "      <th>rhlthend</th>\n",
       "      <th>wtss</th>\n",
       "      <th>wtssnr</th>\n",
       "      <th>wtssall</th>\n",
       "      <th>vstrat</th>\n",
       "      <th>vpsu</th>\n",
       "    </tr>\n",
       "  </thead>\n",
       "  <tbody>\n",
       "    <tr>\n",
       "      <td>0</td>\n",
       "      <td>1972</td>\n",
       "      <td>1</td>\n",
       "      <td>1.0</td>\n",
       "      <td>NaN</td>\n",
       "      <td>NaN</td>\n",
       "      <td>NaN</td>\n",
       "      <td>205.0</td>\n",
       "      <td>50.0</td>\n",
       "      <td>2.0</td>\n",
       "      <td>NaN</td>\n",
       "      <td>...</td>\n",
       "      <td>NaN</td>\n",
       "      <td>NaN</td>\n",
       "      <td>NaN</td>\n",
       "      <td>NaN</td>\n",
       "      <td>NaN</td>\n",
       "      <td>1.0</td>\n",
       "      <td>1.0</td>\n",
       "      <td>0.4446</td>\n",
       "      <td>NaN</td>\n",
       "      <td>NaN</td>\n",
       "    </tr>\n",
       "    <tr>\n",
       "      <td>1</td>\n",
       "      <td>1972</td>\n",
       "      <td>2</td>\n",
       "      <td>5.0</td>\n",
       "      <td>NaN</td>\n",
       "      <td>NaN</td>\n",
       "      <td>1.0</td>\n",
       "      <td>441.0</td>\n",
       "      <td>45.0</td>\n",
       "      <td>2.0</td>\n",
       "      <td>NaN</td>\n",
       "      <td>...</td>\n",
       "      <td>NaN</td>\n",
       "      <td>NaN</td>\n",
       "      <td>NaN</td>\n",
       "      <td>NaN</td>\n",
       "      <td>NaN</td>\n",
       "      <td>1.0</td>\n",
       "      <td>1.0</td>\n",
       "      <td>0.8893</td>\n",
       "      <td>NaN</td>\n",
       "      <td>NaN</td>\n",
       "    </tr>\n",
       "    <tr>\n",
       "      <td>2</td>\n",
       "      <td>1972</td>\n",
       "      <td>3</td>\n",
       "      <td>2.0</td>\n",
       "      <td>NaN</td>\n",
       "      <td>NaN</td>\n",
       "      <td>NaN</td>\n",
       "      <td>270.0</td>\n",
       "      <td>44.0</td>\n",
       "      <td>2.0</td>\n",
       "      <td>NaN</td>\n",
       "      <td>...</td>\n",
       "      <td>NaN</td>\n",
       "      <td>NaN</td>\n",
       "      <td>NaN</td>\n",
       "      <td>NaN</td>\n",
       "      <td>NaN</td>\n",
       "      <td>1.0</td>\n",
       "      <td>1.0</td>\n",
       "      <td>0.8893</td>\n",
       "      <td>NaN</td>\n",
       "      <td>NaN</td>\n",
       "    </tr>\n",
       "    <tr>\n",
       "      <td>3</td>\n",
       "      <td>1972</td>\n",
       "      <td>4</td>\n",
       "      <td>1.0</td>\n",
       "      <td>NaN</td>\n",
       "      <td>NaN</td>\n",
       "      <td>NaN</td>\n",
       "      <td>1.0</td>\n",
       "      <td>57.0</td>\n",
       "      <td>2.0</td>\n",
       "      <td>NaN</td>\n",
       "      <td>...</td>\n",
       "      <td>NaN</td>\n",
       "      <td>NaN</td>\n",
       "      <td>NaN</td>\n",
       "      <td>NaN</td>\n",
       "      <td>NaN</td>\n",
       "      <td>1.0</td>\n",
       "      <td>1.0</td>\n",
       "      <td>0.8893</td>\n",
       "      <td>NaN</td>\n",
       "      <td>NaN</td>\n",
       "    </tr>\n",
       "    <tr>\n",
       "      <td>4</td>\n",
       "      <td>1972</td>\n",
       "      <td>5</td>\n",
       "      <td>7.0</td>\n",
       "      <td>NaN</td>\n",
       "      <td>NaN</td>\n",
       "      <td>1.0</td>\n",
       "      <td>385.0</td>\n",
       "      <td>40.0</td>\n",
       "      <td>2.0</td>\n",
       "      <td>NaN</td>\n",
       "      <td>...</td>\n",
       "      <td>NaN</td>\n",
       "      <td>NaN</td>\n",
       "      <td>NaN</td>\n",
       "      <td>NaN</td>\n",
       "      <td>NaN</td>\n",
       "      <td>1.0</td>\n",
       "      <td>1.0</td>\n",
       "      <td>0.8893</td>\n",
       "      <td>NaN</td>\n",
       "      <td>NaN</td>\n",
       "    </tr>\n",
       "  </tbody>\n",
       "</table>\n",
       "<p>5 rows × 6109 columns</p>\n",
       "</div>"
      ],
      "text/plain": [
       "   year  id  wrkstat  hrs1  hrs2  evwork    occ  prestige  wrkslf  wrkgovt  \\\n",
       "0  1972   1      1.0   NaN   NaN     NaN  205.0      50.0     2.0      NaN   \n",
       "1  1972   2      5.0   NaN   NaN     1.0  441.0      45.0     2.0      NaN   \n",
       "2  1972   3      2.0   NaN   NaN     NaN  270.0      44.0     2.0      NaN   \n",
       "3  1972   4      1.0   NaN   NaN     NaN    1.0      57.0     2.0      NaN   \n",
       "4  1972   5      7.0   NaN   NaN     1.0  385.0      40.0     2.0      NaN   \n",
       "\n",
       "   ...  neisafe  rlooks  rgroomed  rweight  rhlthend  wtss  wtssnr  wtssall  \\\n",
       "0  ...      NaN     NaN       NaN      NaN       NaN   1.0     1.0   0.4446   \n",
       "1  ...      NaN     NaN       NaN      NaN       NaN   1.0     1.0   0.8893   \n",
       "2  ...      NaN     NaN       NaN      NaN       NaN   1.0     1.0   0.8893   \n",
       "3  ...      NaN     NaN       NaN      NaN       NaN   1.0     1.0   0.8893   \n",
       "4  ...      NaN     NaN       NaN      NaN       NaN   1.0     1.0   0.8893   \n",
       "\n",
       "   vstrat  vpsu  \n",
       "0     NaN   NaN  \n",
       "1     NaN   NaN  \n",
       "2     NaN   NaN  \n",
       "3     NaN   NaN  \n",
       "4     NaN   NaN  \n",
       "\n",
       "[5 rows x 6109 columns]"
      ]
     },
     "execution_count": 4,
     "metadata": {},
     "output_type": "execute_result"
    }
   ],
   "source": [
    "data.head()"
   ]
  },
  {
   "cell_type": "code",
   "execution_count": 9,
   "metadata": {},
   "outputs": [
    {
     "data": {
      "text/plain": [
       "array([1972, 1973, 1974, 1975, 1976, 1977, 1978, 1980, 1982, 1983, 1984,\n",
       "       1985, 1986, 1987, 1988, 1989, 1990, 1991, 1993, 1994, 1996, 1998,\n",
       "       2000, 2002, 2004, 2006, 2008, 2010, 2012, 2014, 2016, 2018],\n",
       "      dtype=int64)"
      ]
     },
     "execution_count": 9,
     "metadata": {},
     "output_type": "execute_result"
    }
   ],
   "source": [
    "data['year'].unique()"
   ]
  },
  {
   "cell_type": "code",
   "execution_count": 18,
   "metadata": {},
   "outputs": [
    {
     "data": {
      "image/png": "[encoded data removed]",
      "text/plain": [
       "<Figure size 432x288 with 1 Axes>"
      ]
     },
     "metadata": {
      "needs_background": "light"
     },
     "output_type": "display_data"
    }
   ],
   "source": [
    "data['year'].value_counts().sort_index().plot()\n",
    "plt.show()"
   ]
  },
  {
   "cell_type": "code",
   "execution_count": null,
   "metadata": {},
   "outputs": [],
   "source": []
  }
 ],
 "metadata": {
  "kernelspec": {
   "display_name": "Python 3",
   "language": "python",
   "name": "python3"
  },
  "language_info": {
   "codemirror_mode": {
    "name": "ipython",
    "version": 3
   },
   "file_extension": ".py",
   "mimetype": "text/x-python",
   "name": "python",
   "nbconvert_exporter": "python",
   "pygments_lexer": "ipython3",
   "version": "3.7.4"
  }
 },
 "nbformat": 4,
 "nbformat_minor": 2
}
