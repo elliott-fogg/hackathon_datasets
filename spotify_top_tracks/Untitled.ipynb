{
 "cells": [
  {
   "cell_type": "code",
   "execution_count": 31,
   "metadata": {},
   "outputs": [],
   "source": [
    "import pandas\n",
    "import os\n",
    "import sys"
   ]
  },
  {
   "cell_type": "code",
   "execution_count": 29,
   "metadata": {},
   "outputs": [
    {
     "data": {
      "text/plain": [
       "1152"
      ]
     },
     "execution_count": 29,
     "metadata": {},
     "output_type": "execute_result"
    }
   ],
   "source": [
    "artist_set = set()\n",
    "track_set = set()\n",
    "file_list = os.listdir(\"data/regional/global\")\n",
    "len(file_list)"
   ]
  },
  {
   "cell_type": "code",
   "execution_count": 35,
   "metadata": {},
   "outputs": [
    {
     "name": "stdout",
     "output_type": "stream",
     "text": [
      "regional_global_2018-01-30.csvError tokenizing data. C error: Expected 1 fields in line 6, saw 2\n",
      "\n",
      "regional_global_2019-08-23.csv'float' object has no attribute 'split'\n",
      "regional_global_2020-03-01.csv"
     ]
    }
   ],
   "source": [
    "for file in file_list:\n",
    "    sys.stdout.write(\"\\r\"+file)\n",
    "    sys.stdout.flush()\n",
    "    filepath = \"data/regional/global/\" + file\n",
    "    try:\n",
    "        df = pandas.read_csv(filepath, comment=\"#\")\n",
    "        for track_url in df['URL']:\n",
    "            track_id = track_url.split('/')[-1]\n",
    "            track_set.add(track_id)\n",
    "    except Exception as e:\n",
    "        print(e)"
   ]
  },
  {
   "cell_type": "code",
   "execution_count": 36,
   "metadata": {},
   "outputs": [
    {
     "data": {
      "text/plain": [
       "4837"
      ]
     },
     "execution_count": 36,
     "metadata": {},
     "output_type": "execute_result"
    }
   ],
   "source": [
    "len(track_set)"
   ]
  },
  {
   "cell_type": "code",
   "execution_count": 37,
   "metadata": {},
   "outputs": [],
   "source": [
    "df = pandas.read_csv(\"data/regional/global/regional_global_2019-08-23.csv\", comment=\"#\")"
   ]
  },
  {
   "cell_type": "code",
   "execution_count": 43,
   "metadata": {},
   "outputs": [
    {
     "data": {
      "text/html": [
       "<div>\n",
       "<style scoped>\n",
       "    .dataframe tbody tr th:only-of-type {\n",
       "        vertical-align: middle;\n",
       "    }\n",
       "\n",
       "    .dataframe tbody tr th {\n",
       "        vertical-align: top;\n",
       "    }\n",
       "\n",
       "    .dataframe thead th {\n",
       "        text-align: right;\n",
       "    }\n",
       "</style>\n",
       "<table border=\"1\" class=\"dataframe\">\n",
       "  <thead>\n",
       "    <tr style=\"text-align: right;\">\n",
       "      <th></th>\n",
       "      <th>Position</th>\n",
       "      <th>Track Name</th>\n",
       "      <th>Artist</th>\n",
       "      <th>Streams</th>\n",
       "      <th>URL</th>\n",
       "    </tr>\n",
       "  </thead>\n",
       "  <tbody>\n",
       "    <tr>\n",
       "      <td>180</td>\n",
       "      <td>181</td>\n",
       "      <td>God's Plan</td>\n",
       "      <td>Drake</td>\n",
       "      <td>706385.0</td>\n",
       "      <td>https://open.spotify.com/track/6DCZcSspjsKoFjz...</td>\n",
       "    </tr>\n",
       "    <tr>\n",
       "      <td>181</td>\n",
       "      <td>182</td>\n",
       "      <td>Too Good At Goodbyes</td>\n",
       "      <td>Sam Smith</td>\n",
       "      <td>706098.0</td>\n",
       "      <td>https://open.spotify.com/track/1mXVgsBdtIVeCLJ...</td>\n",
       "    </tr>\n",
       "    <tr>\n",
       "      <td>182</td>\n",
       "      <td>183</td>\n",
       "      <td>I Like Me Better</td>\n",
       "      <td>Lauv</td>\n",
       "      <td>697288.0</td>\n",
       "      <td>https://open.spotify.com/track/2P91MQbaiQOfbiz...</td>\n",
       "    </tr>\n",
       "    <tr>\n",
       "      <td>183</td>\n",
       "      <td>184</td>\n",
       "      <td>wish you were gay</td>\n",
       "      <td>Billie Eilish</td>\n",
       "      <td>696847.0</td>\n",
       "      <td>https://open.spotify.com/track/3Fj47GNK2kUF0ua...</td>\n",
       "    </tr>\n",
       "    <tr>\n",
       "      <td>184</td>\n",
       "      <td>185</td>\n",
       "      <td>hot girl bummer</td>\n",
       "      <td>blackbear</td>\n",
       "      <td>694440.0</td>\n",
       "      <td>https://open.spotify.com/track/7aiClxsDWFRQ0Kz...</td>\n",
       "    </tr>\n",
       "    <tr>\n",
       "      <td>185</td>\n",
       "      <td>186</td>\n",
       "      <td>Moonlight</td>\n",
       "      <td>XXXTENTACION</td>\n",
       "      <td>691583.0</td>\n",
       "      <td>https://open.spotify.com/track/0JP9xo3adEtGSdU...</td>\n",
       "    </tr>\n",
       "    <tr>\n",
       "      <td>186</td>\n",
       "      <td>187</td>\n",
       "      <td>Taste (feat. Offset)</td>\n",
       "      <td>Tyga</td>\n",
       "      <td>688851.0</td>\n",
       "      <td>https://open.spotify.com/track/2toVe5hfuIi97yt...</td>\n",
       "    </tr>\n",
       "    <tr>\n",
       "      <td>187</td>\n",
       "      <td>188</td>\n",
       "      <td>Contra La Pared</td>\n",
       "      <td>Sean Paul</td>\n",
       "      <td>681967.0</td>\n",
       "      <td>https://open.spotify.com/track/37eGbhE1xVFSvcK...</td>\n",
       "    </tr>\n",
       "    <tr>\n",
       "      <td>188</td>\n",
       "      <td>189</td>\n",
       "      <td>NaN</td>\n",
       "      <td>NaN</td>\n",
       "      <td>NaN</td>\n",
       "      <td>NaN</td>\n",
       "    </tr>\n",
       "    <tr>\n",
       "      <td>189</td>\n",
       "      <td>190</td>\n",
       "      <td>i love you</td>\n",
       "      <td>Billie Eilish</td>\n",
       "      <td>677975.0</td>\n",
       "      <td>https://open.spotify.com/track/6CcJMwBtXByIz4z...</td>\n",
       "    </tr>\n",
       "    <tr>\n",
       "      <td>190</td>\n",
       "      <td>191</td>\n",
       "      <td>Brillis</td>\n",
       "      <td>Shirin David</td>\n",
       "      <td>677725.0</td>\n",
       "      <td>https://open.spotify.com/track/0sHeIbgbNzKF8rG...</td>\n",
       "    </tr>\n",
       "    <tr>\n",
       "      <td>191</td>\n",
       "      <td>192</td>\n",
       "      <td>Pure Water (with Migos)</td>\n",
       "      <td>Mustard</td>\n",
       "      <td>676963.0</td>\n",
       "      <td>https://open.spotify.com/track/3j84U36KvLeXNDP...</td>\n",
       "    </tr>\n",
       "    <tr>\n",
       "      <td>192</td>\n",
       "      <td>193</td>\n",
       "      <td>Closer</td>\n",
       "      <td>The Chainsmokers</td>\n",
       "      <td>676349.0</td>\n",
       "      <td>https://open.spotify.com/track/7BKLCZ1jbUBVqRi...</td>\n",
       "    </tr>\n",
       "    <tr>\n",
       "      <td>193</td>\n",
       "      <td>194</td>\n",
       "      <td>Wonderwall - Remastered</td>\n",
       "      <td>Oasis</td>\n",
       "      <td>675765.0</td>\n",
       "      <td>https://open.spotify.com/track/5qqabIl2vWzo9Ap...</td>\n",
       "    </tr>\n",
       "    <tr>\n",
       "      <td>194</td>\n",
       "      <td>195</td>\n",
       "      <td>Body (feat. brando)</td>\n",
       "      <td>Loud Luxury</td>\n",
       "      <td>667875.0</td>\n",
       "      <td>https://open.spotify.com/track/7K7MUBCnzgBAvMV...</td>\n",
       "    </tr>\n",
       "    <tr>\n",
       "      <td>195</td>\n",
       "      <td>196</td>\n",
       "      <td>Secreto</td>\n",
       "      <td>Anuel AA</td>\n",
       "      <td>667337.0</td>\n",
       "      <td>https://open.spotify.com/track/5W83ErFkO3aKAIS...</td>\n",
       "    </tr>\n",
       "    <tr>\n",
       "      <td>196</td>\n",
       "      <td>197</td>\n",
       "      <td>So Am I</td>\n",
       "      <td>Ava Max</td>\n",
       "      <td>666939.0</td>\n",
       "      <td>https://open.spotify.com/track/0uUNN1nSoUx1A4f...</td>\n",
       "    </tr>\n",
       "    <tr>\n",
       "      <td>197</td>\n",
       "      <td>198</td>\n",
       "      <td>2002</td>\n",
       "      <td>Anne-Marie</td>\n",
       "      <td>666426.0</td>\n",
       "      <td>https://open.spotify.com/track/2BgEsaKNfHUdlh9...</td>\n",
       "    </tr>\n",
       "    <tr>\n",
       "      <td>198</td>\n",
       "      <td>199</td>\n",
       "      <td>ST. PERCY</td>\n",
       "      <td>BROCKHAMPTON</td>\n",
       "      <td>664212.0</td>\n",
       "      <td>https://open.spotify.com/track/3wE9jU1zReHLMHL...</td>\n",
       "    </tr>\n",
       "    <tr>\n",
       "      <td>199</td>\n",
       "      <td>200</td>\n",
       "      <td>Bruises</td>\n",
       "      <td>Lewis Capaldi</td>\n",
       "      <td>662888.0</td>\n",
       "      <td>https://open.spotify.com/track/4Of7rzpRpV1mWRb...</td>\n",
       "    </tr>\n",
       "  </tbody>\n",
       "</table>\n",
       "</div>"
      ],
      "text/plain": [
       "     Position               Track Name            Artist   Streams  \\\n",
       "180       181               God's Plan             Drake  706385.0   \n",
       "181       182     Too Good At Goodbyes         Sam Smith  706098.0   \n",
       "182       183         I Like Me Better              Lauv  697288.0   \n",
       "183       184        wish you were gay     Billie Eilish  696847.0   \n",
       "184       185          hot girl bummer         blackbear  694440.0   \n",
       "185       186                Moonlight      XXXTENTACION  691583.0   \n",
       "186       187     Taste (feat. Offset)              Tyga  688851.0   \n",
       "187       188          Contra La Pared         Sean Paul  681967.0   \n",
       "188       189                      NaN               NaN       NaN   \n",
       "189       190               i love you     Billie Eilish  677975.0   \n",
       "190       191                  Brillis      Shirin David  677725.0   \n",
       "191       192  Pure Water (with Migos)           Mustard  676963.0   \n",
       "192       193                   Closer  The Chainsmokers  676349.0   \n",
       "193       194  Wonderwall - Remastered             Oasis  675765.0   \n",
       "194       195      Body (feat. brando)       Loud Luxury  667875.0   \n",
       "195       196                  Secreto          Anuel AA  667337.0   \n",
       "196       197                  So Am I           Ava Max  666939.0   \n",
       "197       198                     2002        Anne-Marie  666426.0   \n",
       "198       199                ST. PERCY      BROCKHAMPTON  664212.0   \n",
       "199       200                  Bruises     Lewis Capaldi  662888.0   \n",
       "\n",
       "                                                   URL  \n",
       "180  https://open.spotify.com/track/6DCZcSspjsKoFjz...  \n",
       "181  https://open.spotify.com/track/1mXVgsBdtIVeCLJ...  \n",
       "182  https://open.spotify.com/track/2P91MQbaiQOfbiz...  \n",
       "183  https://open.spotify.com/track/3Fj47GNK2kUF0ua...  \n",
       "184  https://open.spotify.com/track/7aiClxsDWFRQ0Kz...  \n",
       "185  https://open.spotify.com/track/0JP9xo3adEtGSdU...  \n",
       "186  https://open.spotify.com/track/2toVe5hfuIi97yt...  \n",
       "187  https://open.spotify.com/track/37eGbhE1xVFSvcK...  \n",
       "188                                                NaN  \n",
       "189  https://open.spotify.com/track/6CcJMwBtXByIz4z...  \n",
       "190  https://open.spotify.com/track/0sHeIbgbNzKF8rG...  \n",
       "191  https://open.spotify.com/track/3j84U36KvLeXNDP...  \n",
       "192  https://open.spotify.com/track/7BKLCZ1jbUBVqRi...  \n",
       "193  https://open.spotify.com/track/5qqabIl2vWzo9Ap...  \n",
       "194  https://open.spotify.com/track/7K7MUBCnzgBAvMV...  \n",
       "195  https://open.spotify.com/track/5W83ErFkO3aKAIS...  \n",
       "196  https://open.spotify.com/track/0uUNN1nSoUx1A4f...  \n",
       "197  https://open.spotify.com/track/2BgEsaKNfHUdlh9...  \n",
       "198  https://open.spotify.com/track/3wE9jU1zReHLMHL...  \n",
       "199  https://open.spotify.com/track/4Of7rzpRpV1mWRb...  "
      ]
     },
     "execution_count": 43,
     "metadata": {},
     "output_type": "execute_result"
    }
   ],
   "source": [
    "df.tail(20)"
   ]
  },
  {
   "cell_type": "code",
   "execution_count": 8,
   "metadata": {},
   "outputs": [],
   "source": [
    "track_id = df['URL'][0]"
   ]
  },
  {
   "cell_type": "code",
   "execution_count": 9,
   "metadata": {},
   "outputs": [
    {
     "data": {
      "text/plain": [
       "'https://open.spotify.com/track/5aAx2yezTd8zXrkmtKl66Z'"
      ]
     },
     "execution_count": 9,
     "metadata": {},
     "output_type": "execute_result"
    }
   ],
   "source": [
    "track_id"
   ]
  },
  {
   "cell_type": "code",
   "execution_count": 10,
   "metadata": {},
   "outputs": [],
   "source": [
    "track_url = track_id"
   ]
  },
  {
   "cell_type": "code",
   "execution_count": 11,
   "metadata": {},
   "outputs": [
    {
     "data": {
      "text/plain": [
       "'https://open.spotify.com/track/5aAx2yezTd8zXrkmtKl66Z'"
      ]
     },
     "execution_count": 11,
     "metadata": {},
     "output_type": "execute_result"
    }
   ],
   "source": [
    "track_url"
   ]
  },
  {
   "cell_type": "code",
   "execution_count": 12,
   "metadata": {},
   "outputs": [],
   "source": [
    "track_id = track_url.split(\"/\")[-1]"
   ]
  },
  {
   "cell_type": "code",
   "execution_count": 13,
   "metadata": {},
   "outputs": [
    {
     "data": {
      "text/plain": [
       "'5aAx2yezTd8zXrkmtKl66Z'"
      ]
     },
     "execution_count": 13,
     "metadata": {},
     "output_type": "execute_result"
    }
   ],
   "source": [
    "track_id"
   ]
  },
  {
   "cell_type": "code",
   "execution_count": 18,
   "metadata": {},
   "outputs": [],
   "source": [
    "import spotipy\n",
    "from spotipy.oauth2 import SpotifyClientCredentials\n",
    "\n",
    "cid =\"37bf09c4a866456ebea69781382fb291\" \n",
    "secret = \"04a9cd8f2f0e42c3b7072d58932d03a5\"\n",
    "\n",
    "client_credentials_manager = SpotifyClientCredentials(client_id=cid, client_secret=secret)\n",
    "sp = spotipy.Spotify(client_credentials_manager=client_credentials_manager)"
   ]
  },
  {
   "cell_type": "code",
   "execution_count": 27,
   "metadata": {},
   "outputs": [
    {
     "data": {
      "text/plain": [
       "{'external_urls': {'spotify': 'https://open.spotify.com/artist/1Xyo4u8uXC1ZmMpatF05PJ'},\n",
       " 'followers': {'href': None, 'total': 19046298},\n",
       " 'genres': ['canadian contemporary r&b', 'canadian pop', 'pop'],\n",
       " 'href': 'https://api.spotify.com/v1/artists/1Xyo4u8uXC1ZmMpatF05PJ',\n",
       " 'id': '1Xyo4u8uXC1ZmMpatF05PJ',\n",
       " 'images': [{'height': 640,\n",
       "   'url': 'https://i.scdn.co/image/d9a875c37277c35b94c60c00d2cd256db098505d',\n",
       "   'width': 640},\n",
       "  {'height': 320,\n",
       "   'url': 'https://i.scdn.co/image/91c55730d3f156894d744d560afe441af3f5a228',\n",
       "   'width': 320},\n",
       "  {'height': 160,\n",
       "   'url': 'https://i.scdn.co/image/19393c56208fe6c312384879c11ff3da463f1304',\n",
       "   'width': 160}],\n",
       " 'name': 'The Weeknd',\n",
       " 'popularity': 96,\n",
       " 'type': 'artist',\n",
       " 'uri': 'spotify:artist:1Xyo4u8uXC1ZmMpatF05PJ'}"
      ]
     },
     "execution_count": 27,
     "metadata": {},
     "output_type": "execute_result"
    }
   ],
   "source": [
    "sp.artist('1Xyo4u8uXC1ZmMpatF05PJ')"
   ]
  },
  {
   "cell_type": "code",
   "execution_count": 20,
   "metadata": {},
   "outputs": [],
   "source": [
    "import requests\n",
    "r = requests.get(\"https://api.spotify.com/v1/tracks/5aAx2yezTd8zXrkmtKl66Z\")"
   ]
  },
  {
   "cell_type": "code",
   "execution_count": 21,
   "metadata": {},
   "outputs": [
    {
     "data": {
      "text/plain": [
       "<Response [401]>"
      ]
     },
     "execution_count": 21,
     "metadata": {},
     "output_type": "execute_result"
    }
   ],
   "source": [
    "r"
   ]
  },
  {
   "cell_type": "code",
   "execution_count": 24,
   "metadata": {},
   "outputs": [
    {
     "data": {
      "text/plain": [
       "{'_content': b'{\\n  \"error\": {\\n    \"status\": 401,\\n    \"message\": \"No token provided\"\\n  }\\n}',\n",
       " '_content_consumed': True,\n",
       " '_next': None,\n",
       " 'status_code': 401,\n",
       " 'headers': {'WWW-Authenticate': 'Bearer realm=\"spotify\"', 'Access-Control-Allow-Origin': '*', 'Access-Control-Allow-Headers': 'Accept, App-Platform, Authorization, Content-Type, Origin, Retry-After, Spotify-App-Version, X-Cloud-Trace-Context', 'Access-Control-Allow-Methods': 'GET, POST, OPTIONS, PUT, DELETE, PATCH', 'Access-Control-Allow-Credentials': 'true', 'Access-Control-Max-Age': '604800', 'Content-Type': 'application/json', 'content-encoding': 'gzip', 'Date': 'Thu, 05 Mar 2020 22:01:37 GMT', 'Via': '1.1 google', 'Alt-Svc': 'clear', 'Transfer-Encoding': 'chunked'},\n",
       " 'raw': <urllib3.response.HTTPResponse at 0x218498140c8>,\n",
       " 'url': 'https://api.spotify.com/v1/tracks/5aAx2yezTd8zXrkmtKl66Z',\n",
       " 'encoding': None,\n",
       " 'history': [],\n",
       " 'reason': 'Unauthorized',\n",
       " 'cookies': <RequestsCookieJar[]>,\n",
       " 'elapsed': datetime.timedelta(microseconds=111153),\n",
       " 'request': <PreparedRequest [GET]>,\n",
       " 'connection': <requests.adapters.HTTPAdapter at 0x218497fbfc8>}"
      ]
     },
     "execution_count": 24,
     "metadata": {},
     "output_type": "execute_result"
    }
   ],
   "source": [
    "vars(r)"
   ]
  },
  {
   "cell_type": "code",
   "execution_count": null,
   "metadata": {},
   "outputs": [],
   "source": []
  }
 ],
 "metadata": {
  "kernelspec": {
   "display_name": "Python 3",
   "language": "python",
   "name": "python3"
  },
  "language_info": {
   "codemirror_mode": {
    "name": "ipython",
    "version": 3
   },
   "file_extension": ".py",
   "mimetype": "text/x-python",
   "name": "python",
   "nbconvert_exporter": "python",
   "pygments_lexer": "ipython3",
   "version": "3.7.4"
  }
 },
 "nbformat": 4,
 "nbformat_minor": 2
}
