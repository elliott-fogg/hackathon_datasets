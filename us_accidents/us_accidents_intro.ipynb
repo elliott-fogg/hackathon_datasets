{
 "cells": [
  {
   "cell_type": "markdown",
   "metadata": {},
   "source": [
    "# US Traffic Accidents\n",
    "\n",
    "Link to metadata: https://smoosavi.org/datasets/us_accidents"
   ]
  },
  {
   "cell_type": "markdown",
   "metadata": {},
   "source": [
    "### Import required libraries"
   ]
  },
  {
   "cell_type": "code",
   "execution_count": 1,
   "metadata": {},
   "outputs": [],
   "source": [
    "import pandas as pd"
   ]
  },
  {
   "cell_type": "markdown",
   "metadata": {},
   "source": [
    "### Import the data"
   ]
  },
  {
   "cell_type": "code",
   "execution_count": 2,
   "metadata": {},
   "outputs": [],
   "source": [
    "data = pd.read_csv(\"data/US_Accidents_Dec19.csv\")"
   ]
  },
  {
   "cell_type": "code",
   "execution_count": 3,
   "metadata": {},
   "outputs": [],
   "source": [
    "import_as_chunks = pd.read_csv(\"data/US_Accidents_Dec19.csv\", chunksize=100000)"
   ]
  },
  {
   "cell_type": "code",
   "execution_count": 7,
   "metadata": {},
   "outputs": [
    {
     "name": "stdout",
     "output_type": "stream",
     "text": [
      "              ID         Source    TMC  Severity           Start_Time  \\\n",
      "100000  A-100002       MapQuest  201.0         3  2016-04-05 15:52:14   \n",
      "100001  A-100003       MapQuest  245.0         3  2016-04-05 15:57:10   \n",
      "100002  A-100004       MapQuest  201.0         2  2016-04-05 16:02:16   \n",
      "100003  A-100005  MapQuest-Bing  201.0         2  2016-04-05 16:01:17   \n",
      "100004  A-100006       MapQuest  201.0         2  2016-04-05 16:06:41   \n",
      "...          ...            ...    ...       ...                  ...   \n",
      "199995  A-199997       MapQuest  241.0         3  2017-01-12 05:44:55   \n",
      "199996  A-199998       MapQuest  343.0         2  2017-01-12 05:48:23   \n",
      "199997  A-199999       MapQuest  339.0         3  2017-01-12 05:59:17   \n",
      "199998  A-200000       MapQuest  245.0         3  2017-01-12 05:56:04   \n",
      "199999  A-200001       MapQuest  201.0         3  2017-01-12 06:02:55   \n",
      "\n",
      "                   End_Time  Start_Lat   Start_Lng  End_Lat  End_Lng  ...  \\\n",
      "100000  2016-04-05 16:52:14  32.731979 -117.111244      NaN      NaN  ...   \n",
      "100001  2016-04-05 16:57:10  33.913029 -118.125389      NaN      NaN  ...   \n",
      "100002  2016-04-05 17:02:16  34.121517 -117.536896      NaN      NaN  ...   \n",
      "100003  2016-04-05 17:01:17  33.995079 -117.361183      NaN      NaN  ...   \n",
      "100004  2016-04-05 17:06:41  34.034119 -118.013443      NaN      NaN  ...   \n",
      "...                     ...        ...         ...      ...      ...  ...   \n",
      "199995  2017-01-12 06:14:18  40.797443  -73.503090      NaN      NaN  ...   \n",
      "199996  2017-01-12 06:18:06  42.125355  -71.062134      NaN      NaN  ...   \n",
      "199997  2017-01-12 06:28:42  40.779881  -74.242432      NaN      NaN  ...   \n",
      "199998  2017-01-12 06:25:16  40.734314  -73.922318      NaN      NaN  ...   \n",
      "199999  2017-01-12 06:32:41  42.403008  -71.797577      NaN      NaN  ...   \n",
      "\n",
      "        Roundabout Station   Stop Traffic_Calming Traffic_Signal Turning_Loop  \\\n",
      "100000       False   False  False           False          False        False   \n",
      "100001       False   False  False           False          False        False   \n",
      "100002       False   False  False           False           True        False   \n",
      "100003       False   False  False           False          False        False   \n",
      "100004       False   False  False           False          False        False   \n",
      "...            ...     ...    ...             ...            ...          ...   \n",
      "199995       False   False  False           False          False        False   \n",
      "199996       False   False  False           False          False        False   \n",
      "199997       False   False  False           False          False        False   \n",
      "199998       False   False  False           False          False        False   \n",
      "199999       False   False  False           False          False        False   \n",
      "\n",
      "       Sunrise_Sunset Civil_Twilight Nautical_Twilight Astronomical_Twilight  \n",
      "100000            Day            Day               Day                   Day  \n",
      "100001            Day            Day               Day                   Day  \n",
      "100002            Day            Day               Day                   Day  \n",
      "100003            Day            Day               Day                   Day  \n",
      "100004            Day            Day               Day                   Day  \n",
      "...               ...            ...               ...                   ...  \n",
      "199995          Night          Night             Night                   Day  \n",
      "199996          Night          Night             Night                   Day  \n",
      "199997          Night          Night             Night                   Day  \n",
      "199998          Night          Night             Night                   Day  \n",
      "199999          Night          Night             Night                   Day  \n",
      "\n",
      "[100000 rows x 49 columns]\n"
     ]
    }
   ],
   "source": [
    "for chunk in import_as_chunks:\n",
    "    print(chunk)\n",
    "    break"
   ]
  },
  {
   "cell_type": "code",
   "execution_count": null,
   "metadata": {},
   "outputs": [],
   "source": []
  }
 ],
 "metadata": {
  "kernelspec": {
   "display_name": "Python 3",
   "language": "python",
   "name": "python3"
  },
  "language_info": {
   "codemirror_mode": {
    "name": "ipython",
    "version": 3
   },
   "file_extension": ".py",
   "mimetype": "text/x-python",
   "name": "python",
   "nbconvert_exporter": "python",
   "pygments_lexer": "ipython3",
   "version": "3.7.4"
  }
 },
 "nbformat": 4,
 "nbformat_minor": 2
}
